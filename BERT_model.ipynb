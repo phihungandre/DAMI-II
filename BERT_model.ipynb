{
 "cells": [
  {
   "cell_type": "code",
   "execution_count": 1,
   "id": "initial_id",
   "metadata": {
    "collapsed": true,
    "ExecuteTime": {
     "end_time": "2023-12-21T17:14:43.111787600Z",
     "start_time": "2023-12-21T17:14:42.255588200Z"
    }
   },
   "outputs": [],
   "source": [
    "import pandas as pd\n",
    "import numpy as np\n",
    "import evaluate\n",
    "from transformers import AutoTokenizer, AutoModelForSequenceClassification, TrainingArguments, Trainer\n",
    "from sklearn.model_selection import train_test_split\n"
   ]
  },
  {
   "cell_type": "code",
   "execution_count": 2,
   "outputs": [],
   "source": [
    "df = pd.read_csv(\"./sst_dataset/SST2-Data/SST2-Data/stanfordSentimentTreebank/stanfordSentimentTreebank/datasetSentences.txt\", sep=\"\\t\", index_col=0)\n",
    "\n",
    "dictionary = pd.read_csv(\"./sst_dataset/SST2-Data/SST2-Data/stanfordSentimentTreebank/stanfordSentimentTreebank/dictionary.txt\", sep=\"|\", index_col=1, header=None)\n",
    "\n",
    "label = pd.read_csv(\"./sst_dataset/SST2-Data/SST2-Data/stanfordSentimentTreebank/stanfordSentimentTreebank/sentiment_labels.txt\", sep=\"|\", index_col=0)"
   ],
   "metadata": {
    "collapsed": false,
    "ExecuteTime": {
     "end_time": "2023-12-21T17:14:43.418753700Z",
     "start_time": "2023-12-21T17:14:43.112788Z"
    }
   },
   "id": "295e46c0779b23e"
  },
  {
   "cell_type": "code",
   "execution_count": 3,
   "outputs": [
    {
     "data": {
      "text/plain": "                                                         sentence\nsentence_index                                                   \n1               The Rock is destined to be the 21st Century 's...\n2               The gorgeously elaborate continuation of `` Th...\n3                                  Effective but too-tepid biopic\n4               If you sometimes like to go to the movies to h...\n5               Emerges as something rare , an issue movie tha...\n...                                                           ...\n11851                                             A real snooze .\n11852                                              No surprises .\n11853           We 've seen the hippie-turned-yuppie plot befo...\n11854           Her fans walked out muttering words like `` ho...\n11855                                         In this case zero .\n\n[11855 rows x 1 columns]",
      "text/html": "<div>\n<style scoped>\n    .dataframe tbody tr th:only-of-type {\n        vertical-align: middle;\n    }\n\n    .dataframe tbody tr th {\n        vertical-align: top;\n    }\n\n    .dataframe thead th {\n        text-align: right;\n    }\n</style>\n<table border=\"1\" class=\"dataframe\">\n  <thead>\n    <tr style=\"text-align: right;\">\n      <th></th>\n      <th>sentence</th>\n    </tr>\n    <tr>\n      <th>sentence_index</th>\n      <th></th>\n    </tr>\n  </thead>\n  <tbody>\n    <tr>\n      <th>1</th>\n      <td>The Rock is destined to be the 21st Century 's...</td>\n    </tr>\n    <tr>\n      <th>2</th>\n      <td>The gorgeously elaborate continuation of `` Th...</td>\n    </tr>\n    <tr>\n      <th>3</th>\n      <td>Effective but too-tepid biopic</td>\n    </tr>\n    <tr>\n      <th>4</th>\n      <td>If you sometimes like to go to the movies to h...</td>\n    </tr>\n    <tr>\n      <th>5</th>\n      <td>Emerges as something rare , an issue movie tha...</td>\n    </tr>\n    <tr>\n      <th>...</th>\n      <td>...</td>\n    </tr>\n    <tr>\n      <th>11851</th>\n      <td>A real snooze .</td>\n    </tr>\n    <tr>\n      <th>11852</th>\n      <td>No surprises .</td>\n    </tr>\n    <tr>\n      <th>11853</th>\n      <td>We 've seen the hippie-turned-yuppie plot befo...</td>\n    </tr>\n    <tr>\n      <th>11854</th>\n      <td>Her fans walked out muttering words like `` ho...</td>\n    </tr>\n    <tr>\n      <th>11855</th>\n      <td>In this case zero .</td>\n    </tr>\n  </tbody>\n</table>\n<p>11855 rows × 1 columns</p>\n</div>"
     },
     "execution_count": 3,
     "metadata": {},
     "output_type": "execute_result"
    }
   ],
   "source": [
    "df"
   ],
   "metadata": {
    "collapsed": false,
    "ExecuteTime": {
     "end_time": "2023-12-21T17:14:43.434828500Z",
     "start_time": "2023-12-21T17:14:43.419752700Z"
    }
   },
   "id": "fa95cef8f9ceffb3"
  },
  {
   "cell_type": "code",
   "execution_count": 4,
   "outputs": [
    {
     "data": {
      "text/plain": "            sentiment values\nphrase ids                  \n0                    0.50000\n1                    0.50000\n2                    0.44444\n3                    0.50000\n4                    0.42708\n...                      ...\n239227               0.36111\n239228               0.38889\n239229               0.33333\n239230               0.88889\n239231               0.50000\n\n[239232 rows x 1 columns]",
      "text/html": "<div>\n<style scoped>\n    .dataframe tbody tr th:only-of-type {\n        vertical-align: middle;\n    }\n\n    .dataframe tbody tr th {\n        vertical-align: top;\n    }\n\n    .dataframe thead th {\n        text-align: right;\n    }\n</style>\n<table border=\"1\" class=\"dataframe\">\n  <thead>\n    <tr style=\"text-align: right;\">\n      <th></th>\n      <th>sentiment values</th>\n    </tr>\n    <tr>\n      <th>phrase ids</th>\n      <th></th>\n    </tr>\n  </thead>\n  <tbody>\n    <tr>\n      <th>0</th>\n      <td>0.50000</td>\n    </tr>\n    <tr>\n      <th>1</th>\n      <td>0.50000</td>\n    </tr>\n    <tr>\n      <th>2</th>\n      <td>0.44444</td>\n    </tr>\n    <tr>\n      <th>3</th>\n      <td>0.50000</td>\n    </tr>\n    <tr>\n      <th>4</th>\n      <td>0.42708</td>\n    </tr>\n    <tr>\n      <th>...</th>\n      <td>...</td>\n    </tr>\n    <tr>\n      <th>239227</th>\n      <td>0.36111</td>\n    </tr>\n    <tr>\n      <th>239228</th>\n      <td>0.38889</td>\n    </tr>\n    <tr>\n      <th>239229</th>\n      <td>0.33333</td>\n    </tr>\n    <tr>\n      <th>239230</th>\n      <td>0.88889</td>\n    </tr>\n    <tr>\n      <th>239231</th>\n      <td>0.50000</td>\n    </tr>\n  </tbody>\n</table>\n<p>239232 rows × 1 columns</p>\n</div>"
     },
     "execution_count": 4,
     "metadata": {},
     "output_type": "execute_result"
    }
   ],
   "source": [
    "label"
   ],
   "metadata": {
    "collapsed": false,
    "ExecuteTime": {
     "end_time": "2023-12-21T17:14:43.461779200Z",
     "start_time": "2023-12-21T17:14:43.433826Z"
    }
   },
   "id": "951cd8b77cd354c6"
  },
  {
   "cell_type": "code",
   "execution_count": 5,
   "outputs": [
    {
     "data": {
      "text/plain": "                                               0\n1                                               \n0                                              !\n1                                              '\n2                                            ' (\n3                              ' ( the cockettes\n4                            ' ( the cockettes )\n...                                          ...\n239227           your standard Hollywood bio-pic\n239228  your typical ` fish out of water ' story\n239229                                    zero .\n239230                         zippy jazzy score\n239231                                       UNK\n\n[239232 rows x 1 columns]",
      "text/html": "<div>\n<style scoped>\n    .dataframe tbody tr th:only-of-type {\n        vertical-align: middle;\n    }\n\n    .dataframe tbody tr th {\n        vertical-align: top;\n    }\n\n    .dataframe thead th {\n        text-align: right;\n    }\n</style>\n<table border=\"1\" class=\"dataframe\">\n  <thead>\n    <tr style=\"text-align: right;\">\n      <th></th>\n      <th>0</th>\n    </tr>\n    <tr>\n      <th>1</th>\n      <th></th>\n    </tr>\n  </thead>\n  <tbody>\n    <tr>\n      <th>0</th>\n      <td>!</td>\n    </tr>\n    <tr>\n      <th>1</th>\n      <td>'</td>\n    </tr>\n    <tr>\n      <th>2</th>\n      <td>' (</td>\n    </tr>\n    <tr>\n      <th>3</th>\n      <td>' ( the cockettes</td>\n    </tr>\n    <tr>\n      <th>4</th>\n      <td>' ( the cockettes )</td>\n    </tr>\n    <tr>\n      <th>...</th>\n      <td>...</td>\n    </tr>\n    <tr>\n      <th>239227</th>\n      <td>your standard Hollywood bio-pic</td>\n    </tr>\n    <tr>\n      <th>239228</th>\n      <td>your typical ` fish out of water ' story</td>\n    </tr>\n    <tr>\n      <th>239229</th>\n      <td>zero .</td>\n    </tr>\n    <tr>\n      <th>239230</th>\n      <td>zippy jazzy score</td>\n    </tr>\n    <tr>\n      <th>239231</th>\n      <td>UNK</td>\n    </tr>\n  </tbody>\n</table>\n<p>239232 rows × 1 columns</p>\n</div>"
     },
     "execution_count": 5,
     "metadata": {},
     "output_type": "execute_result"
    }
   ],
   "source": [
    "dictionary = dictionary.sort_index()\n",
    "dictionary"
   ],
   "metadata": {
    "collapsed": false,
    "ExecuteTime": {
     "end_time": "2023-12-21T17:14:43.599855200Z",
     "start_time": "2023-12-21T17:14:43.451999100Z"
    }
   },
   "id": "81ed3baffaf61356"
  },
  {
   "cell_type": "code",
   "execution_count": 6,
   "outputs": [
    {
     "data": {
      "text/plain": "                                               0  sentiment values\n1                                                                 \n0                                              !           0.50000\n1                                              '           0.50000\n2                                            ' (           0.44444\n3                              ' ( the cockettes           0.50000\n4                            ' ( the cockettes )           0.42708\n...                                          ...               ...\n239227           your standard Hollywood bio-pic           0.36111\n239228  your typical ` fish out of water ' story           0.38889\n239229                                    zero .           0.33333\n239230                         zippy jazzy score           0.88889\n239231                                       UNK           0.50000\n\n[239232 rows x 2 columns]",
      "text/html": "<div>\n<style scoped>\n    .dataframe tbody tr th:only-of-type {\n        vertical-align: middle;\n    }\n\n    .dataframe tbody tr th {\n        vertical-align: top;\n    }\n\n    .dataframe thead th {\n        text-align: right;\n    }\n</style>\n<table border=\"1\" class=\"dataframe\">\n  <thead>\n    <tr style=\"text-align: right;\">\n      <th></th>\n      <th>0</th>\n      <th>sentiment values</th>\n    </tr>\n    <tr>\n      <th>1</th>\n      <th></th>\n      <th></th>\n    </tr>\n  </thead>\n  <tbody>\n    <tr>\n      <th>0</th>\n      <td>!</td>\n      <td>0.50000</td>\n    </tr>\n    <tr>\n      <th>1</th>\n      <td>'</td>\n      <td>0.50000</td>\n    </tr>\n    <tr>\n      <th>2</th>\n      <td>' (</td>\n      <td>0.44444</td>\n    </tr>\n    <tr>\n      <th>3</th>\n      <td>' ( the cockettes</td>\n      <td>0.50000</td>\n    </tr>\n    <tr>\n      <th>4</th>\n      <td>' ( the cockettes )</td>\n      <td>0.42708</td>\n    </tr>\n    <tr>\n      <th>...</th>\n      <td>...</td>\n      <td>...</td>\n    </tr>\n    <tr>\n      <th>239227</th>\n      <td>your standard Hollywood bio-pic</td>\n      <td>0.36111</td>\n    </tr>\n    <tr>\n      <th>239228</th>\n      <td>your typical ` fish out of water ' story</td>\n      <td>0.38889</td>\n    </tr>\n    <tr>\n      <th>239229</th>\n      <td>zero .</td>\n      <td>0.33333</td>\n    </tr>\n    <tr>\n      <th>239230</th>\n      <td>zippy jazzy score</td>\n      <td>0.88889</td>\n    </tr>\n    <tr>\n      <th>239231</th>\n      <td>UNK</td>\n      <td>0.50000</td>\n    </tr>\n  </tbody>\n</table>\n<p>239232 rows × 2 columns</p>\n</div>"
     },
     "execution_count": 6,
     "metadata": {},
     "output_type": "execute_result"
    }
   ],
   "source": [
    "data = pd.merge(dictionary, label, left_index=True, right_index=True)\n",
    "data"
   ],
   "metadata": {
    "collapsed": false,
    "ExecuteTime": {
     "end_time": "2023-12-21T17:14:43.608862400Z",
     "start_time": "2023-12-21T17:14:43.495654500Z"
    }
   },
   "id": "44243c37c90ffc39"
  },
  {
   "cell_type": "code",
   "execution_count": 7,
   "outputs": [
    {
     "data": {
      "text/plain": "          label                                      text\n0       0.50000                                         !\n1       0.50000                                         '\n2       0.44444                                       ' (\n3       0.50000                         ' ( the cockettes\n4       0.42708                       ' ( the cockettes )\n...         ...                                       ...\n239227  0.36111           your standard Hollywood bio-pic\n239228  0.38889  your typical ` fish out of water ' story\n239229  0.33333                                    zero .\n239230  0.88889                         zippy jazzy score\n239231  0.50000                                       UNK\n\n[239232 rows x 2 columns]",
      "text/html": "<div>\n<style scoped>\n    .dataframe tbody tr th:only-of-type {\n        vertical-align: middle;\n    }\n\n    .dataframe tbody tr th {\n        vertical-align: top;\n    }\n\n    .dataframe thead th {\n        text-align: right;\n    }\n</style>\n<table border=\"1\" class=\"dataframe\">\n  <thead>\n    <tr style=\"text-align: right;\">\n      <th></th>\n      <th>label</th>\n      <th>text</th>\n    </tr>\n  </thead>\n  <tbody>\n    <tr>\n      <th>0</th>\n      <td>0.50000</td>\n      <td>!</td>\n    </tr>\n    <tr>\n      <th>1</th>\n      <td>0.50000</td>\n      <td>'</td>\n    </tr>\n    <tr>\n      <th>2</th>\n      <td>0.44444</td>\n      <td>' (</td>\n    </tr>\n    <tr>\n      <th>3</th>\n      <td>0.50000</td>\n      <td>' ( the cockettes</td>\n    </tr>\n    <tr>\n      <th>4</th>\n      <td>0.42708</td>\n      <td>' ( the cockettes )</td>\n    </tr>\n    <tr>\n      <th>...</th>\n      <td>...</td>\n      <td>...</td>\n    </tr>\n    <tr>\n      <th>239227</th>\n      <td>0.36111</td>\n      <td>your standard Hollywood bio-pic</td>\n    </tr>\n    <tr>\n      <th>239228</th>\n      <td>0.38889</td>\n      <td>your typical ` fish out of water ' story</td>\n    </tr>\n    <tr>\n      <th>239229</th>\n      <td>0.33333</td>\n      <td>zero .</td>\n    </tr>\n    <tr>\n      <th>239230</th>\n      <td>0.88889</td>\n      <td>zippy jazzy score</td>\n    </tr>\n    <tr>\n      <th>239231</th>\n      <td>0.50000</td>\n      <td>UNK</td>\n    </tr>\n  </tbody>\n</table>\n<p>239232 rows × 2 columns</p>\n</div>"
     },
     "execution_count": 7,
     "metadata": {},
     "output_type": "execute_result"
    }
   ],
   "source": [
    "# transform it to a dictionary with 'label and 'text'\n",
    "data = data.reset_index()\n",
    "data = data.rename(columns={ 0:'text', 'sentiment values':'label'})\n",
    "data = data.drop(1, axis=1)\n",
    "data = data[['label', 'text']]\n",
    "data"
   ],
   "metadata": {
    "collapsed": false,
    "ExecuteTime": {
     "end_time": "2023-12-21T17:14:43.648855200Z",
     "start_time": "2023-12-21T17:14:43.528887Z"
    }
   },
   "id": "394d46de1d527091"
  },
  {
   "cell_type": "code",
   "execution_count": 8,
   "outputs": [
    {
     "data": {
      "text/plain": "{'label': 0.65278, 'text': '` blue crush'}"
     },
     "execution_count": 8,
     "metadata": {},
     "output_type": "execute_result"
    }
   ],
   "source": [
    "#turn dataframe data to a dictionary\n",
    "dataset = data.to_dict('records')\n",
    "dataset[100]"
   ],
   "metadata": {
    "collapsed": false,
    "ExecuteTime": {
     "end_time": "2023-12-21T17:14:43.964348800Z",
     "start_time": "2023-12-21T17:14:43.589321800Z"
    }
   },
   "id": "3097dd9778d8312a"
  },
  {
   "cell_type": "code",
   "execution_count": 9,
   "outputs": [
    {
     "data": {
      "text/plain": "239232"
     },
     "execution_count": 9,
     "metadata": {},
     "output_type": "execute_result"
    }
   ],
   "source": [
    "len(dataset)"
   ],
   "metadata": {
    "collapsed": false,
    "ExecuteTime": {
     "end_time": "2023-12-21T17:15:01.322991900Z",
     "start_time": "2023-12-21T17:15:01.305766800Z"
    }
   },
   "id": "635fcb1cff8d855e"
  },
  {
   "cell_type": "code",
   "execution_count": null,
   "outputs": [],
   "source": [
    "#split the dataset into train, test and validation\n",
    "train, test = train_test_split(dataset, test_size=0.2, random_state=42)\n",
    "\n",
    "tokenizer = AutoTokenizer.from_pretrained(\"bert-base-uncased\")\n",
    "\n",
    "def tokenize_function(examples):\n",
    "    return tokenizer(examples[\"text\"], padding=\"max_length\", truncation=True)\n",
    "\n",
    "tokenized_train_datasets = train.map(tokenize_function, batched=True)\n",
    "tokenized_test_datasets = test.map(tokenize_function, batched=True)"
   ],
   "metadata": {
    "collapsed": false
   },
   "id": "ef7d2d8a387062b3"
  },
  {
   "cell_type": "code",
   "execution_count": null,
   "outputs": [],
   "source": [
    "model = AutoModelForSequenceClassification.from_pretrained(\"bert-base-uncased\", num_labels=5)"
   ],
   "metadata": {
    "collapsed": false
   },
   "id": "c681b930b88af13d"
  },
  {
   "cell_type": "code",
   "execution_count": null,
   "outputs": [],
   "source": [
    "metric = evaluate.load(\"accuracy\")\n",
    "\n",
    "def compute_metrics(eval_pred):\n",
    "    logits, labels = eval_pred\n",
    "    predictions = np.argmax(logits, axis=-1)\n",
    "    return metric.compute(predictions=predictions, references=labels)"
   ],
   "metadata": {
    "collapsed": false
   },
   "id": "db7d4be7e2ff5012"
  },
  {
   "cell_type": "code",
   "execution_count": null,
   "outputs": [],
   "source": [
    "training_args = TrainingArguments(output_dir=\"test_trainer\", evaluation_strategy=\"epoch\")"
   ],
   "metadata": {
    "collapsed": false
   },
   "id": "612aa3fab0e3c543"
  },
  {
   "cell_type": "code",
   "execution_count": null,
   "outputs": [],
   "source": [
    "trainer = Trainer(\n",
    "    model=model, args=training_args, train_dataset=tokenized_train_datasets, eval_dataset=tokenized_test_datasets, compute_metrics=compute_metrics\n",
    ")"
   ],
   "metadata": {
    "collapsed": false
   },
   "id": "2f36ef180ac2883b"
  },
  {
   "cell_type": "code",
   "execution_count": null,
   "outputs": [],
   "source": [
    "trainer.train()"
   ],
   "metadata": {
    "collapsed": false
   },
   "id": "1d454a1f48dc1295"
  }
 ],
 "metadata": {
  "kernelspec": {
   "display_name": "Python 3",
   "language": "python",
   "name": "python3"
  },
  "language_info": {
   "codemirror_mode": {
    "name": "ipython",
    "version": 2
   },
   "file_extension": ".py",
   "mimetype": "text/x-python",
   "name": "python",
   "nbconvert_exporter": "python",
   "pygments_lexer": "ipython2",
   "version": "2.7.6"
  }
 },
 "nbformat": 4,
 "nbformat_minor": 5
}
