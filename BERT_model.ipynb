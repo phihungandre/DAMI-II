{
 "metadata": {
  "kernelspec": {
   "name": "python3",
   "display_name": "Python 3",
   "language": "python"
  },
  "language_info": {
   "name": "python",
   "version": "3.10.12",
   "mimetype": "text/x-python",
   "codemirror_mode": {
    "name": "ipython",
    "version": 3
   },
   "pygments_lexer": "ipython3",
   "nbconvert_exporter": "python",
   "file_extension": ".py"
  },
  "colab": {
   "provenance": []
  },
  "kaggle": {
   "accelerator": "nvidiaTeslaT4",
   "dataSources": [
    {
     "sourceId": 7333667,
     "sourceType": "datasetVersion",
     "datasetId": 4257343
    }
   ],
   "dockerImageVersionId": 30627,
   "isInternetEnabled": true,
   "language": "python",
   "sourceType": "notebook",
   "isGpuEnabled": true
  }
 },
 "nbformat_minor": 5,
 "nbformat": 4,
 "cells": [
  {
   "cell_type": "code",
   "source": [
    "!pip install transformers\n",
    "!pip install evaluate"
   ],
   "metadata": {
    "execution": {
     "iopub.status.busy": "2024-01-04T13:05:24.876415Z",
     "iopub.execute_input": "2024-01-04T13:05:24.876864Z",
     "iopub.status.idle": "2024-01-04T13:05:50.506808Z",
     "shell.execute_reply.started": "2024-01-04T13:05:24.876819Z",
     "shell.execute_reply": "2024-01-04T13:05:50.505333Z"
    },
    "trusted": true
   },
   "execution_count": 43,
   "outputs": [
    {
     "name": "stderr",
     "text": "huggingface/tokenizers: The current process just got forked, after parallelism has already been used. Disabling parallelism to avoid deadlocks...\nTo disable this warning, you can either:\n\t- Avoid using `tokenizers` before the fork if possible\n\t- Explicitly set the environment variable TOKENIZERS_PARALLELISM=(true | false)\n",
     "output_type": "stream"
    },
    {
     "name": "stdout",
     "text": "Requirement already satisfied: transformers in /opt/conda/lib/python3.10/site-packages (4.36.0)\nRequirement already satisfied: filelock in /opt/conda/lib/python3.10/site-packages (from transformers) (3.12.2)\nRequirement already satisfied: huggingface-hub<1.0,>=0.19.3 in /opt/conda/lib/python3.10/site-packages (from transformers) (0.19.4)\nRequirement already satisfied: numpy>=1.17 in /opt/conda/lib/python3.10/site-packages (from transformers) (1.24.3)\nRequirement already satisfied: packaging>=20.0 in /opt/conda/lib/python3.10/site-packages (from transformers) (21.3)\nRequirement already satisfied: pyyaml>=5.1 in /opt/conda/lib/python3.10/site-packages (from transformers) (6.0.1)\nRequirement already satisfied: regex!=2019.12.17 in /opt/conda/lib/python3.10/site-packages (from transformers) (2023.8.8)\nRequirement already satisfied: requests in /opt/conda/lib/python3.10/site-packages (from transformers) (2.31.0)\nRequirement already satisfied: tokenizers<0.19,>=0.14 in /opt/conda/lib/python3.10/site-packages (from transformers) (0.15.0)\nRequirement already satisfied: safetensors>=0.3.1 in /opt/conda/lib/python3.10/site-packages (from transformers) (0.4.1)\nRequirement already satisfied: tqdm>=4.27 in /opt/conda/lib/python3.10/site-packages (from transformers) (4.66.1)\nRequirement already satisfied: fsspec>=2023.5.0 in /opt/conda/lib/python3.10/site-packages (from huggingface-hub<1.0,>=0.19.3->transformers) (2023.12.2)\nRequirement already satisfied: typing-extensions>=3.7.4.3 in /opt/conda/lib/python3.10/site-packages (from huggingface-hub<1.0,>=0.19.3->transformers) (4.5.0)\nRequirement already satisfied: pyparsing!=3.0.5,>=2.0.2 in /opt/conda/lib/python3.10/site-packages (from packaging>=20.0->transformers) (3.0.9)\nRequirement already satisfied: charset-normalizer<4,>=2 in /opt/conda/lib/python3.10/site-packages (from requests->transformers) (3.2.0)\nRequirement already satisfied: idna<4,>=2.5 in /opt/conda/lib/python3.10/site-packages (from requests->transformers) (3.4)\nRequirement already satisfied: urllib3<3,>=1.21.1 in /opt/conda/lib/python3.10/site-packages (from requests->transformers) (1.26.15)\nRequirement already satisfied: certifi>=2017.4.17 in /opt/conda/lib/python3.10/site-packages (from requests->transformers) (2023.11.17)\n",
     "output_type": "stream"
    },
    {
     "name": "stderr",
     "text": "huggingface/tokenizers: The current process just got forked, after parallelism has already been used. Disabling parallelism to avoid deadlocks...\nTo disable this warning, you can either:\n\t- Avoid using `tokenizers` before the fork if possible\n\t- Explicitly set the environment variable TOKENIZERS_PARALLELISM=(true | false)\n",
     "output_type": "stream"
    },
    {
     "name": "stdout",
     "text": "Requirement already satisfied: evaluate in /opt/conda/lib/python3.10/site-packages (0.4.1)\nRequirement already satisfied: datasets>=2.0.0 in /opt/conda/lib/python3.10/site-packages (from evaluate) (2.1.0)\nRequirement already satisfied: numpy>=1.17 in /opt/conda/lib/python3.10/site-packages (from evaluate) (1.24.3)\nRequirement already satisfied: dill in /opt/conda/lib/python3.10/site-packages (from evaluate) (0.3.7)\nRequirement already satisfied: pandas in /opt/conda/lib/python3.10/site-packages (from evaluate) (2.0.3)\nRequirement already satisfied: requests>=2.19.0 in /opt/conda/lib/python3.10/site-packages (from evaluate) (2.31.0)\nRequirement already satisfied: tqdm>=4.62.1 in /opt/conda/lib/python3.10/site-packages (from evaluate) (4.66.1)\nRequirement already satisfied: xxhash in /opt/conda/lib/python3.10/site-packages (from evaluate) (3.4.1)\nRequirement already satisfied: multiprocess in /opt/conda/lib/python3.10/site-packages (from evaluate) (0.70.15)\nRequirement already satisfied: fsspec[http]>=2021.05.0 in /opt/conda/lib/python3.10/site-packages (from evaluate) (2023.12.2)\nRequirement already satisfied: huggingface-hub>=0.7.0 in /opt/conda/lib/python3.10/site-packages (from evaluate) (0.19.4)\nRequirement already satisfied: packaging in /opt/conda/lib/python3.10/site-packages (from evaluate) (21.3)\nRequirement already satisfied: responses<0.19 in /opt/conda/lib/python3.10/site-packages (from evaluate) (0.18.0)\nRequirement already satisfied: pyarrow>=5.0.0 in /opt/conda/lib/python3.10/site-packages (from datasets>=2.0.0->evaluate) (11.0.0)\nRequirement already satisfied: aiohttp in /opt/conda/lib/python3.10/site-packages (from datasets>=2.0.0->evaluate) (3.8.5)\nRequirement already satisfied: filelock in /opt/conda/lib/python3.10/site-packages (from huggingface-hub>=0.7.0->evaluate) (3.12.2)\nRequirement already satisfied: pyyaml>=5.1 in /opt/conda/lib/python3.10/site-packages (from huggingface-hub>=0.7.0->evaluate) (6.0.1)\nRequirement already satisfied: typing-extensions>=3.7.4.3 in /opt/conda/lib/python3.10/site-packages (from huggingface-hub>=0.7.0->evaluate) (4.5.0)\nRequirement already satisfied: pyparsing!=3.0.5,>=2.0.2 in /opt/conda/lib/python3.10/site-packages (from packaging->evaluate) (3.0.9)\nRequirement already satisfied: charset-normalizer<4,>=2 in /opt/conda/lib/python3.10/site-packages (from requests>=2.19.0->evaluate) (3.2.0)\nRequirement already satisfied: idna<4,>=2.5 in /opt/conda/lib/python3.10/site-packages (from requests>=2.19.0->evaluate) (3.4)\nRequirement already satisfied: urllib3<3,>=1.21.1 in /opt/conda/lib/python3.10/site-packages (from requests>=2.19.0->evaluate) (1.26.15)\nRequirement already satisfied: certifi>=2017.4.17 in /opt/conda/lib/python3.10/site-packages (from requests>=2.19.0->evaluate) (2023.11.17)\nRequirement already satisfied: python-dateutil>=2.8.2 in /opt/conda/lib/python3.10/site-packages (from pandas->evaluate) (2.8.2)\nRequirement already satisfied: pytz>=2020.1 in /opt/conda/lib/python3.10/site-packages (from pandas->evaluate) (2023.3)\nRequirement already satisfied: tzdata>=2022.1 in /opt/conda/lib/python3.10/site-packages (from pandas->evaluate) (2023.3)\nRequirement already satisfied: attrs>=17.3.0 in /opt/conda/lib/python3.10/site-packages (from aiohttp->datasets>=2.0.0->evaluate) (23.1.0)\nRequirement already satisfied: multidict<7.0,>=4.5 in /opt/conda/lib/python3.10/site-packages (from aiohttp->datasets>=2.0.0->evaluate) (6.0.4)\nRequirement already satisfied: async-timeout<5.0,>=4.0.0a3 in /opt/conda/lib/python3.10/site-packages (from aiohttp->datasets>=2.0.0->evaluate) (4.0.3)\nRequirement already satisfied: yarl<2.0,>=1.0 in /opt/conda/lib/python3.10/site-packages (from aiohttp->datasets>=2.0.0->evaluate) (1.9.2)\nRequirement already satisfied: frozenlist>=1.1.1 in /opt/conda/lib/python3.10/site-packages (from aiohttp->datasets>=2.0.0->evaluate) (1.4.0)\nRequirement already satisfied: aiosignal>=1.1.2 in /opt/conda/lib/python3.10/site-packages (from aiohttp->datasets>=2.0.0->evaluate) (1.3.1)\nRequirement already satisfied: six>=1.5 in /opt/conda/lib/python3.10/site-packages (from python-dateutil>=2.8.2->pandas->evaluate) (1.16.0)\n",
     "output_type": "stream"
    }
   ],
   "id": "5f7371c5c6a3fa24"
  },
  {
   "cell_type": "code",
   "source": [
    "import pandas as pd\n",
    "import numpy as np\n",
    "import evaluate\n",
    "from transformers import AutoTokenizer, AutoModelForSequenceClassification, TrainingArguments, Trainer\n",
    "from sklearn.model_selection import train_test_split\n",
    "from datasets import Dataset\n",
    "import torch\n",
    "from sklearn import metrics"
   ],
   "metadata": {
    "id": "initial_id",
    "outputId": "255f0b71-09d7-48ee-d55e-8b20a6f904ed",
    "colab": {
     "base_uri": "https://localhost:8080/",
     "height": 478
    },
    "ExecuteTime": {
     "end_time": "2024-01-03T19:31:57.493076900Z",
     "start_time": "2024-01-03T19:31:53.707916500Z"
    },
    "execution": {
     "iopub.status.busy": "2024-01-04T13:48:24.389595Z",
     "iopub.execute_input": "2024-01-04T13:48:24.389991Z",
     "iopub.status.idle": "2024-01-04T13:48:24.397426Z",
     "shell.execute_reply.started": "2024-01-04T13:48:24.389959Z",
     "shell.execute_reply": "2024-01-04T13:48:24.396200Z"
    },
    "trusted": true
   },
   "execution_count": 67,
   "outputs": [],
   "id": "6778ed64b288805"
  },
  {
   "cell_type": "code",
   "source": [
    "df = pd.read_csv(\"./sst_dataset/SST2-Data/SST2-Data/stanfordSentimentTreebank/stanfordSentimentTreebank/datasetSentences.txt\", sep=\"\\t\", index_col=0)\n",
    "\n",
    "dictionary = pd.read_csv(\"./sst_dataset/SST2-Data/SST2-Data/stanfordSentimentTreebank/stanfordSentimentTreebank/dictionary.txt\", sep=\"|\", index_col=1, header=None)\n",
    "\n",
    "label = pd.read_csv(\"./sst_dataset/SST2-Data/SST2-Data/stanfordSentimentTreebank/stanfordSentimentTreebank/sentiment_labels.txt\", sep=\"|\", index_col=0)"
   ],
   "metadata": {
    "id": "295e46c0779b23e",
    "ExecuteTime": {
     "end_time": "2024-01-03T19:31:57.869162900Z",
     "start_time": "2024-01-03T19:31:57.495076900Z"
    },
    "execution": {
     "iopub.status.busy": "2024-01-04T13:05:50.518231Z",
     "iopub.execute_input": "2024-01-04T13:05:50.518568Z",
     "iopub.status.idle": "2024-01-04T13:05:50.958567Z",
     "shell.execute_reply.started": "2024-01-04T13:05:50.518538Z",
     "shell.execute_reply": "2024-01-04T13:05:50.957446Z"
    },
    "trusted": true
   },
   "execution_count": 45,
   "outputs": [],
   "id": "653ffa6143bbcee7"
  },
  {
   "cell_type": "code",
   "source": [
    "df"
   ],
   "metadata": {
    "id": "fa95cef8f9ceffb3",
    "ExecuteTime": {
     "end_time": "2024-01-03T19:31:57.937160500Z",
     "start_time": "2024-01-03T19:31:57.869162900Z"
    },
    "execution": {
     "iopub.status.busy": "2024-01-04T13:05:50.960244Z",
     "iopub.execute_input": "2024-01-04T13:05:50.960655Z",
     "iopub.status.idle": "2024-01-04T13:05:50.977174Z",
     "shell.execute_reply.started": "2024-01-04T13:05:50.960617Z",
     "shell.execute_reply": "2024-01-04T13:05:50.974753Z"
    },
    "trusted": true
   },
   "execution_count": 46,
   "outputs": [
    {
     "execution_count": 46,
     "output_type": "execute_result",
     "data": {
      "text/plain": "                                                         sentence\nsentence_index                                                   \n1               The Rock is destined to be the 21st Century 's...\n2               The gorgeously elaborate continuation of `` Th...\n3                                  Effective but too-tepid biopic\n4               If you sometimes like to go to the movies to h...\n5               Emerges as something rare , an issue movie tha...\n...                                                           ...\n11851                                             A real snooze .\n11852                                              No surprises .\n11853           We 've seen the hippie-turned-yuppie plot befo...\n11854           Her fans walked out muttering words like `` ho...\n11855                                         In this case zero .\n\n[11855 rows x 1 columns]",
      "text/html": "<div>\n<style scoped>\n    .dataframe tbody tr th:only-of-type {\n        vertical-align: middle;\n    }\n\n    .dataframe tbody tr th {\n        vertical-align: top;\n    }\n\n    .dataframe thead th {\n        text-align: right;\n    }\n</style>\n<table border=\"1\" class=\"dataframe\">\n  <thead>\n    <tr style=\"text-align: right;\">\n      <th></th>\n      <th>sentence</th>\n    </tr>\n    <tr>\n      <th>sentence_index</th>\n      <th></th>\n    </tr>\n  </thead>\n  <tbody>\n    <tr>\n      <th>1</th>\n      <td>The Rock is destined to be the 21st Century 's...</td>\n    </tr>\n    <tr>\n      <th>2</th>\n      <td>The gorgeously elaborate continuation of `` Th...</td>\n    </tr>\n    <tr>\n      <th>3</th>\n      <td>Effective but too-tepid biopic</td>\n    </tr>\n    <tr>\n      <th>4</th>\n      <td>If you sometimes like to go to the movies to h...</td>\n    </tr>\n    <tr>\n      <th>5</th>\n      <td>Emerges as something rare , an issue movie tha...</td>\n    </tr>\n    <tr>\n      <th>...</th>\n      <td>...</td>\n    </tr>\n    <tr>\n      <th>11851</th>\n      <td>A real snooze .</td>\n    </tr>\n    <tr>\n      <th>11852</th>\n      <td>No surprises .</td>\n    </tr>\n    <tr>\n      <th>11853</th>\n      <td>We 've seen the hippie-turned-yuppie plot befo...</td>\n    </tr>\n    <tr>\n      <th>11854</th>\n      <td>Her fans walked out muttering words like `` ho...</td>\n    </tr>\n    <tr>\n      <th>11855</th>\n      <td>In this case zero .</td>\n    </tr>\n  </tbody>\n</table>\n<p>11855 rows × 1 columns</p>\n</div>"
     },
     "metadata": {}
    }
   ],
   "id": "53f8307ef6aae987"
  },
  {
   "cell_type": "code",
   "source": [
    "label"
   ],
   "metadata": {
    "id": "951cd8b77cd354c6",
    "ExecuteTime": {
     "end_time": "2024-01-03T19:31:57.971694700Z",
     "start_time": "2024-01-03T19:31:57.901163Z"
    },
    "execution": {
     "iopub.status.busy": "2024-01-04T13:05:50.978711Z",
     "iopub.execute_input": "2024-01-04T13:05:50.979126Z",
     "iopub.status.idle": "2024-01-04T13:05:50.993301Z",
     "shell.execute_reply.started": "2024-01-04T13:05:50.979089Z",
     "shell.execute_reply": "2024-01-04T13:05:50.992588Z"
    },
    "trusted": true
   },
   "execution_count": 47,
   "outputs": [
    {
     "execution_count": 47,
     "output_type": "execute_result",
     "data": {
      "text/plain": "            sentiment values\nphrase ids                  \n0                    0.50000\n1                    0.50000\n2                    0.44444\n3                    0.50000\n4                    0.42708\n...                      ...\n239227               0.36111\n239228               0.38889\n239229               0.33333\n239230               0.88889\n239231               0.50000\n\n[239232 rows x 1 columns]",
      "text/html": "<div>\n<style scoped>\n    .dataframe tbody tr th:only-of-type {\n        vertical-align: middle;\n    }\n\n    .dataframe tbody tr th {\n        vertical-align: top;\n    }\n\n    .dataframe thead th {\n        text-align: right;\n    }\n</style>\n<table border=\"1\" class=\"dataframe\">\n  <thead>\n    <tr style=\"text-align: right;\">\n      <th></th>\n      <th>sentiment values</th>\n    </tr>\n    <tr>\n      <th>phrase ids</th>\n      <th></th>\n    </tr>\n  </thead>\n  <tbody>\n    <tr>\n      <th>0</th>\n      <td>0.50000</td>\n    </tr>\n    <tr>\n      <th>1</th>\n      <td>0.50000</td>\n    </tr>\n    <tr>\n      <th>2</th>\n      <td>0.44444</td>\n    </tr>\n    <tr>\n      <th>3</th>\n      <td>0.50000</td>\n    </tr>\n    <tr>\n      <th>4</th>\n      <td>0.42708</td>\n    </tr>\n    <tr>\n      <th>...</th>\n      <td>...</td>\n    </tr>\n    <tr>\n      <th>239227</th>\n      <td>0.36111</td>\n    </tr>\n    <tr>\n      <th>239228</th>\n      <td>0.38889</td>\n    </tr>\n    <tr>\n      <th>239229</th>\n      <td>0.33333</td>\n    </tr>\n    <tr>\n      <th>239230</th>\n      <td>0.88889</td>\n    </tr>\n    <tr>\n      <th>239231</th>\n      <td>0.50000</td>\n    </tr>\n  </tbody>\n</table>\n<p>239232 rows × 1 columns</p>\n</div>"
     },
     "metadata": {}
    }
   ],
   "id": "6770bd79e0da3b61"
  },
  {
   "cell_type": "code",
   "source": [
    "dictionary = dictionary.sort_index()\n",
    "dictionary"
   ],
   "metadata": {
    "id": "81ed3baffaf61356",
    "ExecuteTime": {
     "end_time": "2024-01-03T19:31:58.017692400Z",
     "start_time": "2024-01-03T19:31:57.918163700Z"
    },
    "execution": {
     "iopub.status.busy": "2024-01-04T13:05:50.994541Z",
     "iopub.execute_input": "2024-01-04T13:05:50.995504Z",
     "iopub.status.idle": "2024-01-04T13:05:51.049280Z",
     "shell.execute_reply.started": "2024-01-04T13:05:50.995465Z",
     "shell.execute_reply": "2024-01-04T13:05:51.047761Z"
    },
    "trusted": true
   },
   "execution_count": 48,
   "outputs": [
    {
     "execution_count": 48,
     "output_type": "execute_result",
     "data": {
      "text/plain": "                                               0\n1                                               \n0                                              !\n1                                              '\n2                                            ' (\n3                              ' ( the cockettes\n4                            ' ( the cockettes )\n...                                          ...\n239227           your standard Hollywood bio-pic\n239228  your typical ` fish out of water ' story\n239229                                    zero .\n239230                         zippy jazzy score\n239231                                       UNK\n\n[239232 rows x 1 columns]",
      "text/html": "<div>\n<style scoped>\n    .dataframe tbody tr th:only-of-type {\n        vertical-align: middle;\n    }\n\n    .dataframe tbody tr th {\n        vertical-align: top;\n    }\n\n    .dataframe thead th {\n        text-align: right;\n    }\n</style>\n<table border=\"1\" class=\"dataframe\">\n  <thead>\n    <tr style=\"text-align: right;\">\n      <th></th>\n      <th>0</th>\n    </tr>\n    <tr>\n      <th>1</th>\n      <th></th>\n    </tr>\n  </thead>\n  <tbody>\n    <tr>\n      <th>0</th>\n      <td>!</td>\n    </tr>\n    <tr>\n      <th>1</th>\n      <td>'</td>\n    </tr>\n    <tr>\n      <th>2</th>\n      <td>' (</td>\n    </tr>\n    <tr>\n      <th>3</th>\n      <td>' ( the cockettes</td>\n    </tr>\n    <tr>\n      <th>4</th>\n      <td>' ( the cockettes )</td>\n    </tr>\n    <tr>\n      <th>...</th>\n      <td>...</td>\n    </tr>\n    <tr>\n      <th>239227</th>\n      <td>your standard Hollywood bio-pic</td>\n    </tr>\n    <tr>\n      <th>239228</th>\n      <td>your typical ` fish out of water ' story</td>\n    </tr>\n    <tr>\n      <th>239229</th>\n      <td>zero .</td>\n    </tr>\n    <tr>\n      <th>239230</th>\n      <td>zippy jazzy score</td>\n    </tr>\n    <tr>\n      <th>239231</th>\n      <td>UNK</td>\n    </tr>\n  </tbody>\n</table>\n<p>239232 rows × 1 columns</p>\n</div>"
     },
     "metadata": {}
    }
   ],
   "id": "f05f54e30c44c414"
  },
  {
   "cell_type": "code",
   "source": [
    "data = pd.merge(dictionary, label, left_index=True, right_index=True)\n",
    "data"
   ],
   "metadata": {
    "id": "44243c37c90ffc39",
    "ExecuteTime": {
     "end_time": "2024-01-03T19:31:58.019692700Z",
     "start_time": "2024-01-03T19:31:57.965693900Z"
    },
    "execution": {
     "iopub.status.busy": "2024-01-04T13:05:51.050928Z",
     "iopub.execute_input": "2024-01-04T13:05:51.051352Z",
     "iopub.status.idle": "2024-01-04T13:05:51.096041Z",
     "shell.execute_reply.started": "2024-01-04T13:05:51.051311Z",
     "shell.execute_reply": "2024-01-04T13:05:51.094822Z"
    },
    "trusted": true
   },
   "execution_count": 49,
   "outputs": [
    {
     "execution_count": 49,
     "output_type": "execute_result",
     "data": {
      "text/plain": "                                               0  sentiment values\n1                                                                 \n0                                              !           0.50000\n1                                              '           0.50000\n2                                            ' (           0.44444\n3                              ' ( the cockettes           0.50000\n4                            ' ( the cockettes )           0.42708\n...                                          ...               ...\n239227           your standard Hollywood bio-pic           0.36111\n239228  your typical ` fish out of water ' story           0.38889\n239229                                    zero .           0.33333\n239230                         zippy jazzy score           0.88889\n239231                                       UNK           0.50000\n\n[239232 rows x 2 columns]",
      "text/html": "<div>\n<style scoped>\n    .dataframe tbody tr th:only-of-type {\n        vertical-align: middle;\n    }\n\n    .dataframe tbody tr th {\n        vertical-align: top;\n    }\n\n    .dataframe thead th {\n        text-align: right;\n    }\n</style>\n<table border=\"1\" class=\"dataframe\">\n  <thead>\n    <tr style=\"text-align: right;\">\n      <th></th>\n      <th>0</th>\n      <th>sentiment values</th>\n    </tr>\n    <tr>\n      <th>1</th>\n      <th></th>\n      <th></th>\n    </tr>\n  </thead>\n  <tbody>\n    <tr>\n      <th>0</th>\n      <td>!</td>\n      <td>0.50000</td>\n    </tr>\n    <tr>\n      <th>1</th>\n      <td>'</td>\n      <td>0.50000</td>\n    </tr>\n    <tr>\n      <th>2</th>\n      <td>' (</td>\n      <td>0.44444</td>\n    </tr>\n    <tr>\n      <th>3</th>\n      <td>' ( the cockettes</td>\n      <td>0.50000</td>\n    </tr>\n    <tr>\n      <th>4</th>\n      <td>' ( the cockettes )</td>\n      <td>0.42708</td>\n    </tr>\n    <tr>\n      <th>...</th>\n      <td>...</td>\n      <td>...</td>\n    </tr>\n    <tr>\n      <th>239227</th>\n      <td>your standard Hollywood bio-pic</td>\n      <td>0.36111</td>\n    </tr>\n    <tr>\n      <th>239228</th>\n      <td>your typical ` fish out of water ' story</td>\n      <td>0.38889</td>\n    </tr>\n    <tr>\n      <th>239229</th>\n      <td>zero .</td>\n      <td>0.33333</td>\n    </tr>\n    <tr>\n      <th>239230</th>\n      <td>zippy jazzy score</td>\n      <td>0.88889</td>\n    </tr>\n    <tr>\n      <th>239231</th>\n      <td>UNK</td>\n      <td>0.50000</td>\n    </tr>\n  </tbody>\n</table>\n<p>239232 rows × 2 columns</p>\n</div>"
     },
     "metadata": {}
    }
   ],
   "id": "1b30ddb3901aeceb"
  },
  {
   "cell_type": "code",
   "source": [
    "# transform it to a dictionary with 'label and 'text'\n",
    "data = data.reset_index()\n",
    "data = data.rename(columns={ 0:'text', 'sentiment values':'label'})\n",
    "data = data.drop(1, axis=1)\n",
    "data = data[['label', 'text']]\n",
    "data = data.dropna()\n",
    "data = data.sample(n=10000,random_state=42)"
   ],
   "metadata": {
    "id": "394d46de1d527091",
    "ExecuteTime": {
     "end_time": "2024-01-03T19:31:58.175754300Z",
     "start_time": "2024-01-03T19:31:57.996697400Z"
    },
    "execution": {
     "iopub.status.busy": "2024-01-04T13:05:51.097454Z",
     "iopub.execute_input": "2024-01-04T13:05:51.097803Z",
     "iopub.status.idle": "2024-01-04T13:05:51.180797Z",
     "shell.execute_reply.started": "2024-01-04T13:05:51.097751Z",
     "shell.execute_reply": "2024-01-04T13:05:51.179637Z"
    },
    "trusted": true
   },
   "execution_count": 50,
   "outputs": [],
   "id": "ba6b91f0ed58a901"
  },
  {
   "cell_type": "code",
   "source": [
    "#change the label to 5 classes 0-0.2 for 0, 0.2-0.4 for 1, 0.4-0.6 for 2, 0.6-0.8 for 3, 0.8-1 for 4\n",
    "#change the label to 5 classes 0-0.2 for 0, 0.2-0.4 for 1, 0.4-0.6 for 2, 0.6-0.8 for 3, 0.8-1 for 4\n",
    "def change_label(x):\n",
    "    if x <= 0.2:\n",
    "        return 0\n",
    "    elif x <= 0.4:\n",
    "        return 1\n",
    "    elif x <= 0.6:\n",
    "        return 2\n",
    "    elif x <= 0.8:\n",
    "        return 3\n",
    "    else:\n",
    "        return 4\n",
    "data['label'] = data['label'].apply(change_label)\n",
    "data['label'] = data['label'].dropna()\n",
    "data['text'] = data['text'].dropna()"
   ],
   "metadata": {
    "id": "8861c194f64f75fc",
    "ExecuteTime": {
     "end_time": "2024-01-03T19:31:58.175754300Z",
     "start_time": "2024-01-03T19:31:58.110219100Z"
    },
    "execution": {
     "iopub.status.busy": "2024-01-04T13:05:51.182463Z",
     "iopub.execute_input": "2024-01-04T13:05:51.182872Z",
     "iopub.status.idle": "2024-01-04T13:05:51.204396Z",
     "shell.execute_reply.started": "2024-01-04T13:05:51.182833Z",
     "shell.execute_reply": "2024-01-04T13:05:51.203254Z"
    },
    "trusted": true
   },
   "execution_count": 51,
   "outputs": [],
   "id": "17404775c5cdabe4"
  },
  {
   "cell_type": "code",
   "source": [
    "X= list(data['text'])\n",
    "y= list(data['label'])\n",
    "X_train, X_test, y_train, y_test = train_test_split(X,y,test_size=.2, random_state=42)"
   ],
   "metadata": {
    "id": "FNZhn6tEjm4O",
    "ExecuteTime": {
     "end_time": "2024-01-03T19:31:58.210749100Z",
     "start_time": "2024-01-03T19:31:58.124220500Z"
    },
    "execution": {
     "iopub.status.busy": "2024-01-04T13:05:51.206002Z",
     "iopub.execute_input": "2024-01-04T13:05:51.206457Z",
     "iopub.status.idle": "2024-01-04T13:05:51.225475Z",
     "shell.execute_reply.started": "2024-01-04T13:05:51.206420Z",
     "shell.execute_reply": "2024-01-04T13:05:51.224473Z"
    },
    "trusted": true
   },
   "execution_count": 52,
   "outputs": [],
   "id": "3f5383ef54646276"
  },
  {
   "cell_type": "code",
   "source": [
    "len(X_train)"
   ],
   "metadata": {
    "collapsed": false,
    "ExecuteTime": {
     "end_time": "2024-01-03T19:38:54.945112700Z",
     "start_time": "2024-01-03T19:38:54.933114400Z"
    },
    "execution": {
     "iopub.status.busy": "2024-01-04T13:05:51.226735Z",
     "iopub.execute_input": "2024-01-04T13:05:51.227119Z",
     "iopub.status.idle": "2024-01-04T13:05:51.236106Z",
     "shell.execute_reply.started": "2024-01-04T13:05:51.227083Z",
     "shell.execute_reply": "2024-01-04T13:05:51.235146Z"
    },
    "trusted": true
   },
   "execution_count": 53,
   "outputs": [
    {
     "execution_count": 53,
     "output_type": "execute_result",
     "data": {
      "text/plain": "8000"
     },
     "metadata": {}
    }
   ],
   "id": "bad5f6f8caa672db"
  },
  {
   "cell_type": "code",
   "source": [
    "tokenizer = AutoTokenizer.from_pretrained('bert-base-cased')\n",
    "\n",
    "train_encodings = tokenizer(X_train, truncation=True,padding=True)\n",
    "test_encodings = tokenizer(X_test,truncation=True,padding=True)"
   ],
   "metadata": {
    "id": "806QhLmBfRxA",
    "ExecuteTime": {
     "end_time": "2024-01-03T19:54:01.574564600Z",
     "start_time": "2024-01-03T19:53:58.874755200Z"
    },
    "execution": {
     "iopub.status.busy": "2024-01-04T13:05:51.242511Z",
     "iopub.execute_input": "2024-01-04T13:05:51.242835Z",
     "iopub.status.idle": "2024-01-04T13:05:52.251528Z",
     "shell.execute_reply.started": "2024-01-04T13:05:51.242797Z",
     "shell.execute_reply": "2024-01-04T13:05:52.250283Z"
    },
    "trusted": true
   },
   "execution_count": 54,
   "outputs": [],
   "id": "5cd359d7ce305b6"
  },
  {
   "cell_type": "code",
   "source": [
    "\"\"\"from torch.utils.data import Dataset\n",
    "\n",
    "class TokenizedDataset(Dataset):\n",
    "    def __init__(self, encodings, labels):\n",
    "        self.encodings = encodings\n",
    "        self.labels = labels\n",
    "\n",
    "    def __getitem__(self, idx):\n",
    "        item = {key: torch.tensor(val[idx]) for key, val in self.encodings.items()}\n",
    "        item['labels'] = torch.tensor(self.labels[idx])\n",
    "        return item\n",
    "\n",
    "    def __len__(self):\n",
    "        return len(self.labels)\n",
    "\"\"\""
   ],
   "metadata": {
    "collapsed": false,
    "ExecuteTime": {
     "end_time": "2024-01-03T19:54:01.590072900Z",
     "start_time": "2024-01-03T19:54:01.576574Z"
    },
    "execution": {
     "iopub.status.busy": "2024-01-04T13:05:52.253543Z",
     "iopub.execute_input": "2024-01-04T13:05:52.254404Z",
     "iopub.status.idle": "2024-01-04T13:05:52.264296Z",
     "shell.execute_reply.started": "2024-01-04T13:05:52.254352Z",
     "shell.execute_reply": "2024-01-04T13:05:52.263354Z"
    },
    "trusted": true
   },
   "execution_count": 55,
   "outputs": [
    {
     "execution_count": 55,
     "output_type": "execute_result",
     "data": {
      "text/plain": "\"from torch.utils.data import Dataset\\n\\nclass TokenizedDataset(Dataset):\\n    def __init__(self, encodings, labels):\\n        self.encodings = encodings\\n        self.labels = labels\\n\\n    def __getitem__(self, idx):\\n        item = {key: torch.tensor(val[idx]) for key, val in self.encodings.items()}\\n        item['labels'] = torch.tensor(self.labels[idx])\\n        return item\\n\\n    def __len__(self):\\n        return len(self.labels)\\n\""
     },
     "metadata": {}
    }
   ],
   "id": "2bb13ea20828c423"
  },
  {
   "cell_type": "code",
   "source": [
    "from datasets.dataset_dict import DatasetDict\n",
    "from datasets import Dataset\n",
    "\"\"\"# Assume `encodings` is your tokenized data and `labels` are your numerical labels\n",
    "train_dataset = TokenizedDataset(train_encodings, y_train)\n",
    "test_dataset = TokenizedDataset(test_encodings, y_test)\n",
    "\"\"\"\n",
    "train_dataset = Dataset.from_dict({\"input_ids\": train_encodings[\"input_ids\"], \"attention_mask\": train_encodings[\"attention_mask\"], \"labels\": y_train})\n",
    "test_dataset = Dataset.from_dict({\"input_ids\": test_encodings[\"input_ids\"], \"attention_mask\": test_encodings[\"attention_mask\"], \"labels\": y_test})"
   ],
   "metadata": {
    "id": "2dPQ-X12om1N",
    "ExecuteTime": {
     "end_time": "2024-01-03T19:54:01.776589600Z",
     "start_time": "2024-01-03T19:54:01.592078200Z"
    },
    "execution": {
     "iopub.status.busy": "2024-01-04T13:05:52.265891Z",
     "iopub.execute_input": "2024-01-04T13:05:52.266232Z",
     "iopub.status.idle": "2024-01-04T13:05:52.509466Z",
     "shell.execute_reply.started": "2024-01-04T13:05:52.266203Z",
     "shell.execute_reply": "2024-01-04T13:05:52.508256Z"
    },
    "trusted": true
   },
   "execution_count": 56,
   "outputs": [],
   "id": "d85f643681896afb"
  },
  {
   "cell_type": "code",
   "source": [
    "model = AutoModelForSequenceClassification.from_pretrained(\"bert-base-cased\", num_labels=5)"
   ],
   "metadata": {
    "id": "WK_yCVS9xhaY",
    "ExecuteTime": {
     "end_time": "2024-01-03T19:54:04.306340400Z",
     "start_time": "2024-01-03T19:54:02.957950800Z"
    },
    "execution": {
     "iopub.status.busy": "2024-01-04T13:05:52.510862Z",
     "iopub.execute_input": "2024-01-04T13:05:52.511184Z",
     "iopub.status.idle": "2024-01-04T13:05:52.847629Z",
     "shell.execute_reply.started": "2024-01-04T13:05:52.511139Z",
     "shell.execute_reply": "2024-01-04T13:05:52.846613Z"
    },
    "trusted": true
   },
   "execution_count": 57,
   "outputs": [
    {
     "name": "stderr",
     "text": "Some weights of BertForSequenceClassification were not initialized from the model checkpoint at bert-base-cased and are newly initialized: ['classifier.weight', 'classifier.bias']\nYou should probably TRAIN this model on a down-stream task to be able to use it for predictions and inference.\n",
     "output_type": "stream"
    }
   ],
   "id": "c9dd6a25b2ed00d8"
  },
  {
   "cell_type": "code",
   "source": [
    "metric = evaluate.load(\"accuracy\")\n",
    "\n",
    "def compute_metrics(eval_pred):\n",
    "    logits, labels = eval_pred\n",
    "    predictions = np.argmax(logits, axis=-1)\n",
    "    return metric.compute(predictions=predictions, references=labels)"
   ],
   "metadata": {
    "id": "SYXyGTRUxqFL",
    "ExecuteTime": {
     "end_time": "2024-01-03T19:54:05.555100600Z",
     "start_time": "2024-01-03T19:54:04.305340700Z"
    },
    "execution": {
     "iopub.status.busy": "2024-01-04T13:05:52.849092Z",
     "iopub.execute_input": "2024-01-04T13:05:52.849464Z",
     "iopub.status.idle": "2024-01-04T13:05:53.262577Z",
     "shell.execute_reply.started": "2024-01-04T13:05:52.849431Z",
     "shell.execute_reply": "2024-01-04T13:05:53.261326Z"
    },
    "trusted": true
   },
   "execution_count": 58,
   "outputs": [],
   "id": "32154d5e52b38138"
  },
  {
   "cell_type": "code",
   "source": [
    "training_args = TrainingArguments(\n",
    "    output_dir=\"test_trainer\", \n",
    "    evaluation_strategy=\"epoch\", \n",
    "    num_train_epochs=10,     \n",
    ")"
   ],
   "metadata": {
    "id": "c9vKdfUfxqs1",
    "ExecuteTime": {
     "end_time": "2024-01-03T19:54:05.631616600Z",
     "start_time": "2024-01-03T19:54:05.556101100Z"
    },
    "execution": {
     "iopub.status.busy": "2024-01-04T13:05:53.264086Z",
     "iopub.execute_input": "2024-01-04T13:05:53.264505Z",
     "iopub.status.idle": "2024-01-04T13:05:53.279938Z",
     "shell.execute_reply.started": "2024-01-04T13:05:53.264461Z",
     "shell.execute_reply": "2024-01-04T13:05:53.278842Z"
    },
    "trusted": true
   },
   "execution_count": 59,
   "outputs": [],
   "id": "88fb14d9112edc8c"
  },
  {
   "cell_type": "code",
   "source": [
    "trainer = Trainer(\n",
    "    model=model, \n",
    "    args=training_args, \n",
    "    train_dataset=train_dataset, \n",
    "    eval_dataset=test_dataset, \n",
    "    compute_metrics=compute_metrics, \n",
    ")"
   ],
   "metadata": {
    "id": "e6Qp-97hxt4a",
    "ExecuteTime": {
     "end_time": "2024-01-03T19:54:05.646616800Z",
     "start_time": "2024-01-03T19:54:05.587109600Z"
    },
    "execution": {
     "iopub.status.busy": "2024-01-04T13:05:53.281826Z",
     "iopub.execute_input": "2024-01-04T13:05:53.282344Z",
     "iopub.status.idle": "2024-01-04T13:05:53.495234Z",
     "shell.execute_reply.started": "2024-01-04T13:05:53.282306Z",
     "shell.execute_reply": "2024-01-04T13:05:53.494066Z"
    },
    "trusted": true
   },
   "execution_count": 60,
   "outputs": [],
   "id": "90b3397a35174935"
  },
  {
   "cell_type": "code",
   "source": [
    "trainer.train()"
   ],
   "metadata": {
    "id": "1d454a1f48dc1295",
    "is_executing": true,
    "ExecuteTime": {
     "start_time": "2024-01-03T19:54:05.757146300Z"
    },
    "execution": {
     "iopub.status.busy": "2024-01-04T13:05:53.496583Z",
     "iopub.execute_input": "2024-01-04T13:05:53.497228Z",
     "iopub.status.idle": "2024-01-04T13:26:23.690759Z",
     "shell.execute_reply.started": "2024-01-04T13:05:53.497200Z",
     "shell.execute_reply": "2024-01-04T13:26:23.689706Z"
    },
    "trusted": true
   },
   "execution_count": 61,
   "outputs": [
    {
     "name": "stderr",
     "text": "/opt/conda/lib/python3.10/site-packages/torch/nn/parallel/_functions.py:68: UserWarning: Was asked to gather along dimension 0, but all input tensors were scalars; will instead unsqueeze and return a vector.\n  warnings.warn('Was asked to gather along dimension 0, but all '\n",
     "output_type": "stream"
    },
    {
     "output_type": "display_data",
     "data": {
      "text/plain": "<IPython.core.display.HTML object>",
      "text/html": "\n    <div>\n      \n      <progress value='5000' max='5000' style='width:300px; height:20px; vertical-align: middle;'></progress>\n      [5000/5000 20:29, Epoch 10/10]\n    </div>\n    <table border=\"1\" class=\"dataframe\">\n  <thead>\n <tr style=\"text-align: left;\">\n      <th>Epoch</th>\n      <th>Training Loss</th>\n      <th>Validation Loss</th>\n      <th>Accuracy</th>\n    </tr>\n  </thead>\n  <tbody>\n    <tr>\n      <td>1</td>\n      <td>1.027900</td>\n      <td>0.988936</td>\n      <td>0.583000</td>\n    </tr>\n    <tr>\n      <td>2</td>\n      <td>0.716800</td>\n      <td>1.010859</td>\n      <td>0.613000</td>\n    </tr>\n    <tr>\n      <td>3</td>\n      <td>0.456500</td>\n      <td>1.313924</td>\n      <td>0.590000</td>\n    </tr>\n    <tr>\n      <td>4</td>\n      <td>0.285400</td>\n      <td>1.606921</td>\n      <td>0.563500</td>\n    </tr>\n    <tr>\n      <td>5</td>\n      <td>0.200200</td>\n      <td>1.856748</td>\n      <td>0.606500</td>\n    </tr>\n    <tr>\n      <td>6</td>\n      <td>0.129600</td>\n      <td>2.267806</td>\n      <td>0.583500</td>\n    </tr>\n    <tr>\n      <td>7</td>\n      <td>0.071300</td>\n      <td>2.667086</td>\n      <td>0.601000</td>\n    </tr>\n    <tr>\n      <td>8</td>\n      <td>0.035600</td>\n      <td>3.013368</td>\n      <td>0.600500</td>\n    </tr>\n    <tr>\n      <td>9</td>\n      <td>0.020300</td>\n      <td>3.067548</td>\n      <td>0.609000</td>\n    </tr>\n    <tr>\n      <td>10</td>\n      <td>0.007500</td>\n      <td>3.153345</td>\n      <td>0.607500</td>\n    </tr>\n  </tbody>\n</table><p>"
     },
     "metadata": {}
    },
    {
     "name": "stderr",
     "text": "Checkpoint destination directory test_trainer/checkpoint-500 already exists and is non-empty.Saving will proceed but saved results may be invalid.\n/opt/conda/lib/python3.10/site-packages/torch/nn/parallel/_functions.py:68: UserWarning: Was asked to gather along dimension 0, but all input tensors were scalars; will instead unsqueeze and return a vector.\n  warnings.warn('Was asked to gather along dimension 0, but all '\n/opt/conda/lib/python3.10/site-packages/torch/nn/parallel/_functions.py:68: UserWarning: Was asked to gather along dimension 0, but all input tensors were scalars; will instead unsqueeze and return a vector.\n  warnings.warn('Was asked to gather along dimension 0, but all '\nCheckpoint destination directory test_trainer/checkpoint-1000 already exists and is non-empty.Saving will proceed but saved results may be invalid.\n/opt/conda/lib/python3.10/site-packages/torch/nn/parallel/_functions.py:68: UserWarning: Was asked to gather along dimension 0, but all input tensors were scalars; will instead unsqueeze and return a vector.\n  warnings.warn('Was asked to gather along dimension 0, but all '\n/opt/conda/lib/python3.10/site-packages/torch/nn/parallel/_functions.py:68: UserWarning: Was asked to gather along dimension 0, but all input tensors were scalars; will instead unsqueeze and return a vector.\n  warnings.warn('Was asked to gather along dimension 0, but all '\nCheckpoint destination directory test_trainer/checkpoint-1500 already exists and is non-empty.Saving will proceed but saved results may be invalid.\n/opt/conda/lib/python3.10/site-packages/torch/nn/parallel/_functions.py:68: UserWarning: Was asked to gather along dimension 0, but all input tensors were scalars; will instead unsqueeze and return a vector.\n  warnings.warn('Was asked to gather along dimension 0, but all '\n/opt/conda/lib/python3.10/site-packages/torch/nn/parallel/_functions.py:68: UserWarning: Was asked to gather along dimension 0, but all input tensors were scalars; will instead unsqueeze and return a vector.\n  warnings.warn('Was asked to gather along dimension 0, but all '\nCheckpoint destination directory test_trainer/checkpoint-2000 already exists and is non-empty.Saving will proceed but saved results may be invalid.\n/opt/conda/lib/python3.10/site-packages/torch/nn/parallel/_functions.py:68: UserWarning: Was asked to gather along dimension 0, but all input tensors were scalars; will instead unsqueeze and return a vector.\n  warnings.warn('Was asked to gather along dimension 0, but all '\n/opt/conda/lib/python3.10/site-packages/torch/nn/parallel/_functions.py:68: UserWarning: Was asked to gather along dimension 0, but all input tensors were scalars; will instead unsqueeze and return a vector.\n  warnings.warn('Was asked to gather along dimension 0, but all '\nCheckpoint destination directory test_trainer/checkpoint-2500 already exists and is non-empty.Saving will proceed but saved results may be invalid.\n/opt/conda/lib/python3.10/site-packages/torch/nn/parallel/_functions.py:68: UserWarning: Was asked to gather along dimension 0, but all input tensors were scalars; will instead unsqueeze and return a vector.\n  warnings.warn('Was asked to gather along dimension 0, but all '\n/opt/conda/lib/python3.10/site-packages/torch/nn/parallel/_functions.py:68: UserWarning: Was asked to gather along dimension 0, but all input tensors were scalars; will instead unsqueeze and return a vector.\n  warnings.warn('Was asked to gather along dimension 0, but all '\n/opt/conda/lib/python3.10/site-packages/torch/nn/parallel/_functions.py:68: UserWarning: Was asked to gather along dimension 0, but all input tensors were scalars; will instead unsqueeze and return a vector.\n  warnings.warn('Was asked to gather along dimension 0, but all '\n/opt/conda/lib/python3.10/site-packages/torch/nn/parallel/_functions.py:68: UserWarning: Was asked to gather along dimension 0, but all input tensors were scalars; will instead unsqueeze and return a vector.\n  warnings.warn('Was asked to gather along dimension 0, but all '\n/opt/conda/lib/python3.10/site-packages/torch/nn/parallel/_functions.py:68: UserWarning: Was asked to gather along dimension 0, but all input tensors were scalars; will instead unsqueeze and return a vector.\n  warnings.warn('Was asked to gather along dimension 0, but all '\n/opt/conda/lib/python3.10/site-packages/torch/nn/parallel/_functions.py:68: UserWarning: Was asked to gather along dimension 0, but all input tensors were scalars; will instead unsqueeze and return a vector.\n  warnings.warn('Was asked to gather along dimension 0, but all '\n/opt/conda/lib/python3.10/site-packages/torch/nn/parallel/_functions.py:68: UserWarning: Was asked to gather along dimension 0, but all input tensors were scalars; will instead unsqueeze and return a vector.\n  warnings.warn('Was asked to gather along dimension 0, but all '\n/opt/conda/lib/python3.10/site-packages/torch/nn/parallel/_functions.py:68: UserWarning: Was asked to gather along dimension 0, but all input tensors were scalars; will instead unsqueeze and return a vector.\n  warnings.warn('Was asked to gather along dimension 0, but all '\n/opt/conda/lib/python3.10/site-packages/torch/nn/parallel/_functions.py:68: UserWarning: Was asked to gather along dimension 0, but all input tensors were scalars; will instead unsqueeze and return a vector.\n  warnings.warn('Was asked to gather along dimension 0, but all '\n/opt/conda/lib/python3.10/site-packages/torch/nn/parallel/_functions.py:68: UserWarning: Was asked to gather along dimension 0, but all input tensors were scalars; will instead unsqueeze and return a vector.\n  warnings.warn('Was asked to gather along dimension 0, but all '\n/opt/conda/lib/python3.10/site-packages/torch/nn/parallel/_functions.py:68: UserWarning: Was asked to gather along dimension 0, but all input tensors were scalars; will instead unsqueeze and return a vector.\n  warnings.warn('Was asked to gather along dimension 0, but all '\n",
     "output_type": "stream"
    },
    {
     "execution_count": 61,
     "output_type": "execute_result",
     "data": {
      "text/plain": "TrainOutput(global_step=5000, training_loss=0.2951185815811157, metrics={'train_runtime': 1229.6437, 'train_samples_per_second': 65.059, 'train_steps_per_second': 4.066, 'total_flos': 2590069214880000.0, 'train_loss': 0.2951185815811157, 'epoch': 10.0})"
     },
     "metadata": {}
    }
   ],
   "id": "66e22de469e1996e"
  },
  {
   "cell_type": "code",
   "source": [
    "trainer.evaluate(test_dataset)"
   ],
   "metadata": {
    "id": "a221149074ddb794",
    "is_executing": true,
    "execution": {
     "iopub.status.busy": "2024-01-04T13:26:23.692032Z",
     "iopub.execute_input": "2024-01-04T13:26:23.692315Z",
     "iopub.status.idle": "2024-01-04T13:26:33.194128Z",
     "shell.execute_reply.started": "2024-01-04T13:26:23.692291Z",
     "shell.execute_reply": "2024-01-04T13:26:33.193045Z"
    },
    "trusted": true
   },
   "execution_count": 62,
   "outputs": [
    {
     "name": "stderr",
     "text": "/opt/conda/lib/python3.10/site-packages/torch/nn/parallel/_functions.py:68: UserWarning: Was asked to gather along dimension 0, but all input tensors were scalars; will instead unsqueeze and return a vector.\n  warnings.warn('Was asked to gather along dimension 0, but all '\n",
     "output_type": "stream"
    },
    {
     "output_type": "display_data",
     "data": {
      "text/plain": "<IPython.core.display.HTML object>",
      "text/html": ""
     },
     "metadata": {}
    },
    {
     "execution_count": 62,
     "output_type": "execute_result",
     "data": {
      "text/plain": "{'eval_loss': 3.1533446311950684,\n 'eval_accuracy': 0.6075,\n 'eval_runtime': 9.4902,\n 'eval_samples_per_second': 210.744,\n 'eval_steps_per_second': 13.171,\n 'epoch': 10.0}"
     },
     "metadata": {}
    }
   ],
   "id": "92e39742866467c1"
  },
  {
   "cell_type": "code",
   "source": [
    "predictions = trainer.predict(test_dataset)"
   ],
   "metadata": {
    "id": "tJizonSIuRxj",
    "is_executing": true,
    "execution": {
     "iopub.status.busy": "2024-01-04T13:49:13.722165Z",
     "iopub.execute_input": "2024-01-04T13:49:13.723095Z",
     "iopub.status.idle": "2024-01-04T13:49:23.251722Z",
     "shell.execute_reply.started": "2024-01-04T13:49:13.723063Z",
     "shell.execute_reply": "2024-01-04T13:49:23.250443Z"
    },
    "trusted": true
   },
   "execution_count": 70,
   "outputs": [
    {
     "name": "stderr",
     "text": "/opt/conda/lib/python3.10/site-packages/torch/nn/parallel/_functions.py:68: UserWarning: Was asked to gather along dimension 0, but all input tensors were scalars; will instead unsqueeze and return a vector.\n  warnings.warn('Was asked to gather along dimension 0, but all '\n",
     "output_type": "stream"
    },
    {
     "output_type": "display_data",
     "data": {
      "text/plain": "<IPython.core.display.HTML object>",
      "text/html": ""
     },
     "metadata": {}
    }
   ],
   "id": "56437ae7017fb9a"
  },
  {
   "cell_type": "code",
   "source": [
    "# Convert the predictions to the same format as your labels\n",
    "# This depends on your specific use case\n",
    "# For example, if you're doing classification, you might want to use the argmax\n",
    "predicted_labels = predictions.predictions.argmax(-1)\n",
    "\n",
    "# Get the true labels\n",
    "\n",
    "# Create a DataFrame to compare the predicted and true labels\n",
    "import pandas as pd\n",
    "results = pd.DataFrame({\n",
    "    'Predicted Label': predicted_labels,\n",
    "    'True Label': y_test\n",
    "})\n",
    "\n",
    "print(results)\n"
   ],
   "metadata": {
    "id": "8LmDzgbDyH9E",
    "ExecuteTime": {
     "start_time": "2024-01-03T19:35:03.346870800Z"
    },
    "execution": {
     "iopub.status.busy": "2024-01-04T13:49:23.254364Z",
     "iopub.execute_input": "2024-01-04T13:49:23.254897Z",
     "iopub.status.idle": "2024-01-04T13:49:23.273020Z",
     "shell.execute_reply.started": "2024-01-04T13:49:23.254845Z",
     "shell.execute_reply": "2024-01-04T13:49:23.271950Z"
    },
    "trusted": true
   },
   "execution_count": 71,
   "outputs": [
    {
     "name": "stdout",
     "text": "      Predicted Label  True Label\n0                   0           0\n1                   2           2\n2                   3           2\n3                   3           4\n4                   2           2\n...               ...         ...\n1995                2           1\n1996                1           2\n1997                2           1\n1998                2           2\n1999                3           3\n\n[2000 rows x 2 columns]\n",
     "output_type": "stream"
    }
   ],
   "id": "7b5b819a31a91d38"
  },
  {
   "cell_type": "code",
   "source": [
    "precision, recall, f1, _ = metrics.precision_recall_fscore_support(y_true=y_test, y_pred=predicted_labels, average='macro')\n",
    "precision, recall, f1"
   ],
   "metadata": {
    "execution": {
     "iopub.status.busy": "2024-01-04T13:49:23.274531Z",
     "iopub.execute_input": "2024-01-04T13:49:23.275034Z",
     "iopub.status.idle": "2024-01-04T13:49:23.304669Z",
     "shell.execute_reply.started": "2024-01-04T13:49:23.274994Z",
     "shell.execute_reply": "2024-01-04T13:49:23.303494Z"
    },
    "trusted": true
   },
   "execution_count": 72,
   "outputs": [
    {
     "execution_count": 72,
     "output_type": "execute_result",
     "data": {
      "text/plain": "(0.5235071759181384, 0.49597739058149265, 0.5051045305473674)"
     },
     "metadata": {}
    }
   ],
   "id": "fb73f347b24deffa"
  },
  {
   "cell_type": "code",
   "source": [
    "import seaborn as sns\n",
    "import tensorflow as tf\n",
    "import matplotlib.pyplot as plt\n",
    "from sklearn.metrics import confusion_matrix\n",
    "y_true = y_test\n",
    "y_pred = predicted_labels\n",
    "\n",
    "# Create confusion matrix\n",
    "cm = confusion_matrix(y_true, y_pred)\n",
    "\n",
    "classes = [0,1,2,3,4]\n",
    "plt.figure(figsize=(8, 6))\n",
    "sns.heatmap(cm, annot=True, fmt=\"d\", cmap=\"Blues\", xticklabels=classes, yticklabels=classes)\n",
    "plt.title(\"Confusion Matrix\")\n",
    "plt.xlabel(\"Predicted Labels\")\n",
    "plt.ylabel(\"True Labels\")\n",
    "plt.show()"
   ],
   "metadata": {
    "execution": {
     "iopub.status.busy": "2024-01-04T13:49:23.307162Z",
     "iopub.execute_input": "2024-01-04T13:49:23.308279Z",
     "iopub.status.idle": "2024-01-04T13:49:23.729842Z",
     "shell.execute_reply.started": "2024-01-04T13:49:23.308237Z",
     "shell.execute_reply": "2024-01-04T13:49:23.728530Z"
    },
    "trusted": true
   },
   "execution_count": 73,
   "outputs": [
    {
     "output_type": "display_data",
     "data": {
      "text/plain": "<Figure size 800x600 with 2 Axes>",
      "image/png": "[encoded data removed]"
     },
     "metadata": {}
    }
   ],
   "id": "ae0c7b0fddaa3902"
  }
 ]
}
