{
 "metadata": {
  "kernelspec": {
   "name": "python3",
   "display_name": "Python 3",
   "language": "python"
  },
  "language_info": {
   "name": "python",
   "version": "3.10.12",
   "mimetype": "text/x-python",
   "codemirror_mode": {
    "name": "ipython",
    "version": 3
   },
   "pygments_lexer": "ipython3",
   "nbconvert_exporter": "python",
   "file_extension": ".py"
  },
  "colab": {
   "provenance": []
  },
  "kaggle": {
   "accelerator": "nvidiaTeslaT4",
   "dataSources": [
    {
     "sourceId": 7333667,
     "sourceType": "datasetVersion",
     "datasetId": 4257343
    },
    {
     "sourceId": 7340242,
     "sourceType": "datasetVersion",
     "datasetId": 4261724
    }
   ],
   "dockerImageVersionId": 30627,
   "isInternetEnabled": true,
   "language": "python",
   "sourceType": "notebook",
   "isGpuEnabled": true
  }
 },
 "nbformat_minor": 4,
 "nbformat": 4,
 "cells": [
  {
   "cell_type": "code",
   "source": [
    "!pip install transformers\n",
    "!pip install evaluate"
   ],
   "metadata": {
    "_kg_hide-output": true,
    "execution": {
     "iopub.status.busy": "2024-01-09T11:09:30.775920Z",
     "iopub.execute_input": "2024-01-09T11:09:30.776795Z",
     "iopub.status.idle": "2024-01-09T11:09:54.942057Z",
     "shell.execute_reply.started": "2024-01-09T11:09:30.776750Z",
     "shell.execute_reply": "2024-01-09T11:09:54.940911Z"
    },
    "trusted": true
   },
   "execution_count": 24,
   "outputs": [
    {
     "name": "stderr",
     "text": "huggingface/tokenizers: The current process just got forked, after parallelism has already been used. Disabling parallelism to avoid deadlocks...\nTo disable this warning, you can either:\n\t- Avoid using `tokenizers` before the fork if possible\n\t- Explicitly set the environment variable TOKENIZERS_PARALLELISM=(true | false)\n",
     "output_type": "stream"
    },
    {
     "name": "stdout",
     "text": "Requirement already satisfied: transformers in /opt/conda/lib/python3.10/site-packages (4.36.0)\nRequirement already satisfied: filelock in /opt/conda/lib/python3.10/site-packages (from transformers) (3.12.2)\nRequirement already satisfied: huggingface-hub<1.0,>=0.19.3 in /opt/conda/lib/python3.10/site-packages (from transformers) (0.19.4)\nRequirement already satisfied: numpy>=1.17 in /opt/conda/lib/python3.10/site-packages (from transformers) (1.24.3)\nRequirement already satisfied: packaging>=20.0 in /opt/conda/lib/python3.10/site-packages (from transformers) (21.3)\nRequirement already satisfied: pyyaml>=5.1 in /opt/conda/lib/python3.10/site-packages (from transformers) (6.0.1)\nRequirement already satisfied: regex!=2019.12.17 in /opt/conda/lib/python3.10/site-packages (from transformers) (2023.8.8)\nRequirement already satisfied: requests in /opt/conda/lib/python3.10/site-packages (from transformers) (2.31.0)\nRequirement already satisfied: tokenizers<0.19,>=0.14 in /opt/conda/lib/python3.10/site-packages (from transformers) (0.15.0)\nRequirement already satisfied: safetensors>=0.3.1 in /opt/conda/lib/python3.10/site-packages (from transformers) (0.4.1)\nRequirement already satisfied: tqdm>=4.27 in /opt/conda/lib/python3.10/site-packages (from transformers) (4.66.1)\nRequirement already satisfied: fsspec>=2023.5.0 in /opt/conda/lib/python3.10/site-packages (from huggingface-hub<1.0,>=0.19.3->transformers) (2023.12.2)\nRequirement already satisfied: typing-extensions>=3.7.4.3 in /opt/conda/lib/python3.10/site-packages (from huggingface-hub<1.0,>=0.19.3->transformers) (4.5.0)\nRequirement already satisfied: pyparsing!=3.0.5,>=2.0.2 in /opt/conda/lib/python3.10/site-packages (from packaging>=20.0->transformers) (3.0.9)\nRequirement already satisfied: charset-normalizer<4,>=2 in /opt/conda/lib/python3.10/site-packages (from requests->transformers) (3.2.0)\nRequirement already satisfied: idna<4,>=2.5 in /opt/conda/lib/python3.10/site-packages (from requests->transformers) (3.4)\nRequirement already satisfied: urllib3<3,>=1.21.1 in /opt/conda/lib/python3.10/site-packages (from requests->transformers) (1.26.15)\nRequirement already satisfied: certifi>=2017.4.17 in /opt/conda/lib/python3.10/site-packages (from requests->transformers) (2023.11.17)\n",
     "output_type": "stream"
    },
    {
     "name": "stderr",
     "text": "huggingface/tokenizers: The current process just got forked, after parallelism has already been used. Disabling parallelism to avoid deadlocks...\nTo disable this warning, you can either:\n\t- Avoid using `tokenizers` before the fork if possible\n\t- Explicitly set the environment variable TOKENIZERS_PARALLELISM=(true | false)\n",
     "output_type": "stream"
    },
    {
     "name": "stdout",
     "text": "Requirement already satisfied: evaluate in /opt/conda/lib/python3.10/site-packages (0.4.1)\nRequirement already satisfied: datasets>=2.0.0 in /opt/conda/lib/python3.10/site-packages (from evaluate) (2.1.0)\nRequirement already satisfied: numpy>=1.17 in /opt/conda/lib/python3.10/site-packages (from evaluate) (1.24.3)\nRequirement already satisfied: dill in /opt/conda/lib/python3.10/site-packages (from evaluate) (0.3.7)\nRequirement already satisfied: pandas in /opt/conda/lib/python3.10/site-packages (from evaluate) (2.0.3)\nRequirement already satisfied: requests>=2.19.0 in /opt/conda/lib/python3.10/site-packages (from evaluate) (2.31.0)\nRequirement already satisfied: tqdm>=4.62.1 in /opt/conda/lib/python3.10/site-packages (from evaluate) (4.66.1)\nRequirement already satisfied: xxhash in /opt/conda/lib/python3.10/site-packages (from evaluate) (3.4.1)\nRequirement already satisfied: multiprocess in /opt/conda/lib/python3.10/site-packages (from evaluate) (0.70.15)\nRequirement already satisfied: fsspec[http]>=2021.05.0 in /opt/conda/lib/python3.10/site-packages (from evaluate) (2023.12.2)\nRequirement already satisfied: huggingface-hub>=0.7.0 in /opt/conda/lib/python3.10/site-packages (from evaluate) (0.19.4)\nRequirement already satisfied: packaging in /opt/conda/lib/python3.10/site-packages (from evaluate) (21.3)\nRequirement already satisfied: responses<0.19 in /opt/conda/lib/python3.10/site-packages (from evaluate) (0.18.0)\nRequirement already satisfied: pyarrow>=5.0.0 in /opt/conda/lib/python3.10/site-packages (from datasets>=2.0.0->evaluate) (11.0.0)\nRequirement already satisfied: aiohttp in /opt/conda/lib/python3.10/site-packages (from datasets>=2.0.0->evaluate) (3.8.5)\nRequirement already satisfied: filelock in /opt/conda/lib/python3.10/site-packages (from huggingface-hub>=0.7.0->evaluate) (3.12.2)\nRequirement already satisfied: pyyaml>=5.1 in /opt/conda/lib/python3.10/site-packages (from huggingface-hub>=0.7.0->evaluate) (6.0.1)\nRequirement already satisfied: typing-extensions>=3.7.4.3 in /opt/conda/lib/python3.10/site-packages (from huggingface-hub>=0.7.0->evaluate) (4.5.0)\nRequirement already satisfied: pyparsing!=3.0.5,>=2.0.2 in /opt/conda/lib/python3.10/site-packages (from packaging->evaluate) (3.0.9)\nRequirement already satisfied: charset-normalizer<4,>=2 in /opt/conda/lib/python3.10/site-packages (from requests>=2.19.0->evaluate) (3.2.0)\nRequirement already satisfied: idna<4,>=2.5 in /opt/conda/lib/python3.10/site-packages (from requests>=2.19.0->evaluate) (3.4)\nRequirement already satisfied: urllib3<3,>=1.21.1 in /opt/conda/lib/python3.10/site-packages (from requests>=2.19.0->evaluate) (1.26.15)\nRequirement already satisfied: certifi>=2017.4.17 in /opt/conda/lib/python3.10/site-packages (from requests>=2.19.0->evaluate) (2023.11.17)\nRequirement already satisfied: python-dateutil>=2.8.2 in /opt/conda/lib/python3.10/site-packages (from pandas->evaluate) (2.8.2)\nRequirement already satisfied: pytz>=2020.1 in /opt/conda/lib/python3.10/site-packages (from pandas->evaluate) (2023.3)\nRequirement already satisfied: tzdata>=2022.1 in /opt/conda/lib/python3.10/site-packages (from pandas->evaluate) (2023.3)\nRequirement already satisfied: attrs>=17.3.0 in /opt/conda/lib/python3.10/site-packages (from aiohttp->datasets>=2.0.0->evaluate) (23.1.0)\nRequirement already satisfied: multidict<7.0,>=4.5 in /opt/conda/lib/python3.10/site-packages (from aiohttp->datasets>=2.0.0->evaluate) (6.0.4)\nRequirement already satisfied: async-timeout<5.0,>=4.0.0a3 in /opt/conda/lib/python3.10/site-packages (from aiohttp->datasets>=2.0.0->evaluate) (4.0.3)\nRequirement already satisfied: yarl<2.0,>=1.0 in /opt/conda/lib/python3.10/site-packages (from aiohttp->datasets>=2.0.0->evaluate) (1.9.2)\nRequirement already satisfied: frozenlist>=1.1.1 in /opt/conda/lib/python3.10/site-packages (from aiohttp->datasets>=2.0.0->evaluate) (1.4.0)\nRequirement already satisfied: aiosignal>=1.1.2 in /opt/conda/lib/python3.10/site-packages (from aiohttp->datasets>=2.0.0->evaluate) (1.3.1)\nRequirement already satisfied: six>=1.5 in /opt/conda/lib/python3.10/site-packages (from python-dateutil>=2.8.2->pandas->evaluate) (1.16.0)\n",
     "output_type": "stream"
    }
   ]
  },
  {
   "cell_type": "markdown",
   "source": [
    "# 0. Preprocessing"
   ],
   "metadata": {}
  },
  {
   "cell_type": "code",
   "source": [
    "import pandas as pd\n",
    "import numpy as np\n",
    "import evaluate\n",
    "from transformers import AutoTokenizer, AutoModelForSequenceClassification, TrainingArguments, Trainer\n",
    "from sklearn.model_selection import train_test_split\n",
    "from datasets import Dataset\n",
    "import torch\n",
    "from sklearn import metrics\n",
    "import re"
   ],
   "metadata": {
    "id": "initial_id",
    "outputId": "255f0b71-09d7-48ee-d55e-8b20a6f904ed",
    "ExecuteTime": {
     "end_time": "2024-01-03T19:31:57.493076900Z",
     "start_time": "2024-01-03T19:31:53.707916500Z"
    },
    "execution": {
     "iopub.status.busy": "2024-01-09T11:09:54.944971Z",
     "iopub.execute_input": "2024-01-09T11:09:54.945404Z",
     "iopub.status.idle": "2024-01-09T11:09:54.956568Z",
     "shell.execute_reply.started": "2024-01-09T11:09:54.945366Z",
     "shell.execute_reply": "2024-01-09T11:09:54.955355Z"
    },
    "trusted": true
   },
   "execution_count": 25,
   "outputs": []
  },
  {
   "cell_type": "code",
   "source": [
    "df = pd.read_csv(\"/kaggle/input/bert-fine-tune-data/datasetSentences.txt\", sep=\"\\t\", index_col=0)\n",
    "\n",
    "dictionary = pd.read_csv(\"/kaggle/input/bert-fine-tune-data/dictionary.txt\", sep=\"|\", index_col=1, header=None)\n",
    "\n",
    "label = pd.read_csv(\"/kaggle/input/bert-fine-tune-data/sentiment_labels.txt\", sep=\"|\", index_col=0)\n",
    "\n",
    "dataset_split = pd.read_csv(\"/kaggle/input/traintest/datasetSplit.txt\", index_col=0)"
   ],
   "metadata": {
    "id": "295e46c0779b23e",
    "ExecuteTime": {
     "end_time": "2024-01-03T19:31:57.869162900Z",
     "start_time": "2024-01-03T19:31:57.495076900Z"
    },
    "execution": {
     "iopub.status.busy": "2024-01-09T11:09:54.957873Z",
     "iopub.execute_input": "2024-01-09T11:09:54.958121Z",
     "iopub.status.idle": "2024-01-09T11:09:55.351455Z",
     "shell.execute_reply.started": "2024-01-09T11:09:54.958099Z",
     "shell.execute_reply": "2024-01-09T11:09:55.350342Z"
    },
    "trusted": true
   },
   "execution_count": 26,
   "outputs": []
  },
  {
   "cell_type": "code",
   "source": [
    "df = pd.merge(df,dataset_split, left_index=True,right_index=True)\n",
    "df"
   ],
   "metadata": {
    "id": "fa95cef8f9ceffb3",
    "ExecuteTime": {
     "end_time": "2024-01-03T19:31:57.937160500Z",
     "start_time": "2024-01-03T19:31:57.869162900Z"
    },
    "execution": {
     "iopub.status.busy": "2024-01-09T11:09:55.352972Z",
     "iopub.execute_input": "2024-01-09T11:09:55.353439Z",
     "iopub.status.idle": "2024-01-09T11:09:55.372066Z",
     "shell.execute_reply.started": "2024-01-09T11:09:55.353400Z",
     "shell.execute_reply": "2024-01-09T11:09:55.370939Z"
    },
    "trusted": true
   },
   "execution_count": 27,
   "outputs": [
    {
     "execution_count": 27,
     "output_type": "execute_result",
     "data": {
      "text/plain": "                                                         sentence  \\\nsentence_index                                                      \n1               The Rock is destined to be the 21st Century 's...   \n2               The gorgeously elaborate continuation of `` Th...   \n3                                  Effective but too-tepid biopic   \n4               If you sometimes like to go to the movies to h...   \n5               Emerges as something rare , an issue movie tha...   \n...                                                           ...   \n11851                                             A real snooze .   \n11852                                              No surprises .   \n11853           We 've seen the hippie-turned-yuppie plot befo...   \n11854           Her fans walked out muttering words like `` ho...   \n11855                                         In this case zero .   \n\n                splitset_label  \nsentence_index                  \n1                            1  \n2                            1  \n3                            2  \n4                            2  \n5                            2  \n...                        ...  \n11851                        1  \n11852                        1  \n11853                        1  \n11854                        1  \n11855                        1  \n\n[11855 rows x 2 columns]",
      "text/html": "<div>\n<style scoped>\n    .dataframe tbody tr th:only-of-type {\n        vertical-align: middle;\n    }\n\n    .dataframe tbody tr th {\n        vertical-align: top;\n    }\n\n    .dataframe thead th {\n        text-align: right;\n    }\n</style>\n<table border=\"1\" class=\"dataframe\">\n  <thead>\n    <tr style=\"text-align: right;\">\n      <th></th>\n      <th>sentence</th>\n      <th>splitset_label</th>\n    </tr>\n    <tr>\n      <th>sentence_index</th>\n      <th></th>\n      <th></th>\n    </tr>\n  </thead>\n  <tbody>\n    <tr>\n      <th>1</th>\n      <td>The Rock is destined to be the 21st Century 's...</td>\n      <td>1</td>\n    </tr>\n    <tr>\n      <th>2</th>\n      <td>The gorgeously elaborate continuation of `` Th...</td>\n      <td>1</td>\n    </tr>\n    <tr>\n      <th>3</th>\n      <td>Effective but too-tepid biopic</td>\n      <td>2</td>\n    </tr>\n    <tr>\n      <th>4</th>\n      <td>If you sometimes like to go to the movies to h...</td>\n      <td>2</td>\n    </tr>\n    <tr>\n      <th>5</th>\n      <td>Emerges as something rare , an issue movie tha...</td>\n      <td>2</td>\n    </tr>\n    <tr>\n      <th>...</th>\n      <td>...</td>\n      <td>...</td>\n    </tr>\n    <tr>\n      <th>11851</th>\n      <td>A real snooze .</td>\n      <td>1</td>\n    </tr>\n    <tr>\n      <th>11852</th>\n      <td>No surprises .</td>\n      <td>1</td>\n    </tr>\n    <tr>\n      <th>11853</th>\n      <td>We 've seen the hippie-turned-yuppie plot befo...</td>\n      <td>1</td>\n    </tr>\n    <tr>\n      <th>11854</th>\n      <td>Her fans walked out muttering words like `` ho...</td>\n      <td>1</td>\n    </tr>\n    <tr>\n      <th>11855</th>\n      <td>In this case zero .</td>\n      <td>1</td>\n    </tr>\n  </tbody>\n</table>\n<p>11855 rows × 2 columns</p>\n</div>"
     },
     "metadata": {}
    }
   ]
  },
  {
   "cell_type": "code",
   "source": [
    "df_test = df.copy()\n",
    "df_test = df_test[df_test['splitset_label'] == 2]\n",
    "df_test = df_test.reset_index(drop=True)\n",
    "df_test"
   ],
   "metadata": {
    "execution": {
     "iopub.status.busy": "2024-01-09T11:09:55.374790Z",
     "iopub.execute_input": "2024-01-09T11:09:55.375093Z",
     "iopub.status.idle": "2024-01-09T11:09:55.390945Z",
     "shell.execute_reply.started": "2024-01-09T11:09:55.375066Z",
     "shell.execute_reply": "2024-01-09T11:09:55.389881Z"
    },
    "trusted": true
   },
   "execution_count": 28,
   "outputs": [
    {
     "execution_count": 28,
     "output_type": "execute_result",
     "data": {
      "text/plain": "                                               sentence  splitset_label\n0                        Effective but too-tepid biopic               2\n1     If you sometimes like to go to the movies to h...               2\n2     Emerges as something rare , an issue movie tha...               2\n3     The film provides some great insight into the ...               2\n4     Offers that rare combination of entertainment ...               2\n...                                                 ...             ...\n2205                  An imaginative comedy\\/thriller .               2\n2206              -LRB- A -RRB- rare , beautiful film .               2\n2207         -LRB- An -RRB- hilarious romantic comedy .               2\n2208        Never -LRB- sinks -RRB- into exploitation .               2\n2209                -LRB- U -RRB- nrelentingly stupid .               2\n\n[2210 rows x 2 columns]",
      "text/html": "<div>\n<style scoped>\n    .dataframe tbody tr th:only-of-type {\n        vertical-align: middle;\n    }\n\n    .dataframe tbody tr th {\n        vertical-align: top;\n    }\n\n    .dataframe thead th {\n        text-align: right;\n    }\n</style>\n<table border=\"1\" class=\"dataframe\">\n  <thead>\n    <tr style=\"text-align: right;\">\n      <th></th>\n      <th>sentence</th>\n      <th>splitset_label</th>\n    </tr>\n  </thead>\n  <tbody>\n    <tr>\n      <th>0</th>\n      <td>Effective but too-tepid biopic</td>\n      <td>2</td>\n    </tr>\n    <tr>\n      <th>1</th>\n      <td>If you sometimes like to go to the movies to h...</td>\n      <td>2</td>\n    </tr>\n    <tr>\n      <th>2</th>\n      <td>Emerges as something rare , an issue movie tha...</td>\n      <td>2</td>\n    </tr>\n    <tr>\n      <th>3</th>\n      <td>The film provides some great insight into the ...</td>\n      <td>2</td>\n    </tr>\n    <tr>\n      <th>4</th>\n      <td>Offers that rare combination of entertainment ...</td>\n      <td>2</td>\n    </tr>\n    <tr>\n      <th>...</th>\n      <td>...</td>\n      <td>...</td>\n    </tr>\n    <tr>\n      <th>2205</th>\n      <td>An imaginative comedy\\/thriller .</td>\n      <td>2</td>\n    </tr>\n    <tr>\n      <th>2206</th>\n      <td>-LRB- A -RRB- rare , beautiful film .</td>\n      <td>2</td>\n    </tr>\n    <tr>\n      <th>2207</th>\n      <td>-LRB- An -RRB- hilarious romantic comedy .</td>\n      <td>2</td>\n    </tr>\n    <tr>\n      <th>2208</th>\n      <td>Never -LRB- sinks -RRB- into exploitation .</td>\n      <td>2</td>\n    </tr>\n    <tr>\n      <th>2209</th>\n      <td>-LRB- U -RRB- nrelentingly stupid .</td>\n      <td>2</td>\n    </tr>\n  </tbody>\n</table>\n<p>2210 rows × 2 columns</p>\n</div>"
     },
     "metadata": {}
    }
   ]
  },
  {
   "cell_type": "code",
   "source": [
    "df_train = df.copy()\n",
    "df_train = df_train[df_train['splitset_label'] == 1]\n",
    "df_train = df_train.reset_index(drop=True)\n",
    "df_train"
   ],
   "metadata": {
    "execution": {
     "iopub.status.busy": "2024-01-09T11:09:55.392779Z",
     "iopub.execute_input": "2024-01-09T11:09:55.393154Z",
     "iopub.status.idle": "2024-01-09T11:09:55.409433Z",
     "shell.execute_reply.started": "2024-01-09T11:09:55.393109Z",
     "shell.execute_reply": "2024-01-09T11:09:55.408592Z"
    },
    "trusted": true
   },
   "execution_count": 29,
   "outputs": [
    {
     "execution_count": 29,
     "output_type": "execute_result",
     "data": {
      "text/plain": "                                               sentence  splitset_label\n0     The Rock is destined to be the 21st Century 's...               1\n1     The gorgeously elaborate continuation of `` Th...               1\n2     Singer\\/composer Bryan Adams contributes a sle...               1\n3     You 'd think by now America would have had eno...               1\n4                  Yet the act is still charming here .               1\n...                                                 ...             ...\n8539                                    A real snooze .               1\n8540                                     No surprises .               1\n8541  We 've seen the hippie-turned-yuppie plot befo...               1\n8542  Her fans walked out muttering words like `` ho...               1\n8543                                In this case zero .               1\n\n[8544 rows x 2 columns]",
      "text/html": "<div>\n<style scoped>\n    .dataframe tbody tr th:only-of-type {\n        vertical-align: middle;\n    }\n\n    .dataframe tbody tr th {\n        vertical-align: top;\n    }\n\n    .dataframe thead th {\n        text-align: right;\n    }\n</style>\n<table border=\"1\" class=\"dataframe\">\n  <thead>\n    <tr style=\"text-align: right;\">\n      <th></th>\n      <th>sentence</th>\n      <th>splitset_label</th>\n    </tr>\n  </thead>\n  <tbody>\n    <tr>\n      <th>0</th>\n      <td>The Rock is destined to be the 21st Century 's...</td>\n      <td>1</td>\n    </tr>\n    <tr>\n      <th>1</th>\n      <td>The gorgeously elaborate continuation of `` Th...</td>\n      <td>1</td>\n    </tr>\n    <tr>\n      <th>2</th>\n      <td>Singer\\/composer Bryan Adams contributes a sle...</td>\n      <td>1</td>\n    </tr>\n    <tr>\n      <th>3</th>\n      <td>You 'd think by now America would have had eno...</td>\n      <td>1</td>\n    </tr>\n    <tr>\n      <th>4</th>\n      <td>Yet the act is still charming here .</td>\n      <td>1</td>\n    </tr>\n    <tr>\n      <th>...</th>\n      <td>...</td>\n      <td>...</td>\n    </tr>\n    <tr>\n      <th>8539</th>\n      <td>A real snooze .</td>\n      <td>1</td>\n    </tr>\n    <tr>\n      <th>8540</th>\n      <td>No surprises .</td>\n      <td>1</td>\n    </tr>\n    <tr>\n      <th>8541</th>\n      <td>We 've seen the hippie-turned-yuppie plot befo...</td>\n      <td>1</td>\n    </tr>\n    <tr>\n      <th>8542</th>\n      <td>Her fans walked out muttering words like `` ho...</td>\n      <td>1</td>\n    </tr>\n    <tr>\n      <th>8543</th>\n      <td>In this case zero .</td>\n      <td>1</td>\n    </tr>\n  </tbody>\n</table>\n<p>8544 rows × 2 columns</p>\n</div>"
     },
     "metadata": {}
    }
   ]
  },
  {
   "cell_type": "code",
   "source": [
    "test_file_path = '/kaggle/input/traintest/test.txt'\n",
    "train_file_path = '/kaggle/input/traintest/train.txt'"
   ],
   "metadata": {
    "execution": {
     "iopub.status.busy": "2024-01-09T11:09:55.410505Z",
     "iopub.execute_input": "2024-01-09T11:09:55.411452Z",
     "iopub.status.idle": "2024-01-09T11:09:55.416036Z",
     "shell.execute_reply.started": "2024-01-09T11:09:55.411423Z",
     "shell.execute_reply": "2024-01-09T11:09:55.414979Z"
    },
    "trusted": true
   },
   "execution_count": 30,
   "outputs": []
  },
  {
   "cell_type": "code",
   "source": [
    "# Initialize an empty list to store the first numbers\n",
    "test_first_numbers = []\n",
    "\n",
    "# Open the file and read it line by line\n",
    "with open(test_file_path, 'r') as file:\n",
    "    for line in file:\n",
    "        # Find the first occurrence of a number in each line\n",
    "        match = re.search(r'\\d+', line)\n",
    "        if match:\n",
    "            # Append the found number to the list\n",
    "            test_first_numbers.append(int(match.group()))\n",
    "labels_test = pd.DataFrame(test_first_numbers, columns=['sentiment_labels'])\n",
    "print(labels_test)\n",
    "df_test = pd.merge(df_test,labels_test, left_index=True,right_index=True)\n",
    "df_test"
   ],
   "metadata": {
    "execution": {
     "iopub.status.busy": "2024-01-09T11:09:55.417540Z",
     "iopub.execute_input": "2024-01-09T11:09:55.418079Z",
     "iopub.status.idle": "2024-01-09T11:09:55.449666Z",
     "shell.execute_reply.started": "2024-01-09T11:09:55.418046Z",
     "shell.execute_reply": "2024-01-09T11:09:55.448773Z"
    },
    "trusted": true
   },
   "execution_count": 31,
   "outputs": [
    {
     "name": "stdout",
     "text": "      sentiment_labels\n0                    2\n1                    3\n2                    4\n3                    2\n4                    4\n...                ...\n2205                 3\n2206                 4\n2207                 4\n2208                 3\n2209                 0\n\n[2210 rows x 1 columns]\n",
     "output_type": "stream"
    },
    {
     "execution_count": 31,
     "output_type": "execute_result",
     "data": {
      "text/plain": "                                               sentence  splitset_label  \\\n0                        Effective but too-tepid biopic               2   \n1     If you sometimes like to go to the movies to h...               2   \n2     Emerges as something rare , an issue movie tha...               2   \n3     The film provides some great insight into the ...               2   \n4     Offers that rare combination of entertainment ...               2   \n...                                                 ...             ...   \n2205                  An imaginative comedy\\/thriller .               2   \n2206              -LRB- A -RRB- rare , beautiful film .               2   \n2207         -LRB- An -RRB- hilarious romantic comedy .               2   \n2208        Never -LRB- sinks -RRB- into exploitation .               2   \n2209                -LRB- U -RRB- nrelentingly stupid .               2   \n\n      sentiment_labels  \n0                    2  \n1                    3  \n2                    4  \n3                    2  \n4                    4  \n...                ...  \n2205                 3  \n2206                 4  \n2207                 4  \n2208                 3  \n2209                 0  \n\n[2210 rows x 3 columns]",
      "text/html": "<div>\n<style scoped>\n    .dataframe tbody tr th:only-of-type {\n        vertical-align: middle;\n    }\n\n    .dataframe tbody tr th {\n        vertical-align: top;\n    }\n\n    .dataframe thead th {\n        text-align: right;\n    }\n</style>\n<table border=\"1\" class=\"dataframe\">\n  <thead>\n    <tr style=\"text-align: right;\">\n      <th></th>\n      <th>sentence</th>\n      <th>splitset_label</th>\n      <th>sentiment_labels</th>\n    </tr>\n  </thead>\n  <tbody>\n    <tr>\n      <th>0</th>\n      <td>Effective but too-tepid biopic</td>\n      <td>2</td>\n      <td>2</td>\n    </tr>\n    <tr>\n      <th>1</th>\n      <td>If you sometimes like to go to the movies to h...</td>\n      <td>2</td>\n      <td>3</td>\n    </tr>\n    <tr>\n      <th>2</th>\n      <td>Emerges as something rare , an issue movie tha...</td>\n      <td>2</td>\n      <td>4</td>\n    </tr>\n    <tr>\n      <th>3</th>\n      <td>The film provides some great insight into the ...</td>\n      <td>2</td>\n      <td>2</td>\n    </tr>\n    <tr>\n      <th>4</th>\n      <td>Offers that rare combination of entertainment ...</td>\n      <td>2</td>\n      <td>4</td>\n    </tr>\n    <tr>\n      <th>...</th>\n      <td>...</td>\n      <td>...</td>\n      <td>...</td>\n    </tr>\n    <tr>\n      <th>2205</th>\n      <td>An imaginative comedy\\/thriller .</td>\n      <td>2</td>\n      <td>3</td>\n    </tr>\n    <tr>\n      <th>2206</th>\n      <td>-LRB- A -RRB- rare , beautiful film .</td>\n      <td>2</td>\n      <td>4</td>\n    </tr>\n    <tr>\n      <th>2207</th>\n      <td>-LRB- An -RRB- hilarious romantic comedy .</td>\n      <td>2</td>\n      <td>4</td>\n    </tr>\n    <tr>\n      <th>2208</th>\n      <td>Never -LRB- sinks -RRB- into exploitation .</td>\n      <td>2</td>\n      <td>3</td>\n    </tr>\n    <tr>\n      <th>2209</th>\n      <td>-LRB- U -RRB- nrelentingly stupid .</td>\n      <td>2</td>\n      <td>0</td>\n    </tr>\n  </tbody>\n</table>\n<p>2210 rows × 3 columns</p>\n</div>"
     },
     "metadata": {}
    }
   ]
  },
  {
   "cell_type": "code",
   "source": [
    "# Initialize an empty list to store the first numbers\n",
    "train_first_numbers = []\n",
    "\n",
    "# Open the file and read it line by line\n",
    "with open(train_file_path, 'r') as file:\n",
    "    for line in file:\n",
    "        # Find the first occurrence of a number in each line\n",
    "        match = re.search(r'\\d+', line)\n",
    "        if match:\n",
    "            # Append the found number to the list\n",
    "            train_first_numbers.append(int(match.group()))\n",
    "labels_train = pd.DataFrame(train_first_numbers, columns=['sentiment_labels'])\n",
    "print(labels_train)\n",
    "df_train = pd.merge(df_train,labels_train, left_index=True,right_index=True)\n",
    "df_train"
   ],
   "metadata": {
    "execution": {
     "iopub.status.busy": "2024-01-09T11:09:55.451164Z",
     "iopub.execute_input": "2024-01-09T11:09:55.451847Z",
     "iopub.status.idle": "2024-01-09T11:09:55.500280Z",
     "shell.execute_reply.started": "2024-01-09T11:09:55.451808Z",
     "shell.execute_reply": "2024-01-09T11:09:55.499209Z"
    },
    "trusted": true
   },
   "execution_count": 32,
   "outputs": [
    {
     "name": "stdout",
     "text": "      sentiment_labels\n0                    3\n1                    4\n2                    3\n3                    2\n4                    3\n...                ...\n8539                 0\n8540                 1\n8541                 3\n8542                 0\n8543                 1\n\n[8544 rows x 1 columns]\n",
     "output_type": "stream"
    },
    {
     "execution_count": 32,
     "output_type": "execute_result",
     "data": {
      "text/plain": "                                               sentence  splitset_label  \\\n0     The Rock is destined to be the 21st Century 's...               1   \n1     The gorgeously elaborate continuation of `` Th...               1   \n2     Singer\\/composer Bryan Adams contributes a sle...               1   \n3     You 'd think by now America would have had eno...               1   \n4                  Yet the act is still charming here .               1   \n...                                                 ...             ...   \n8539                                    A real snooze .               1   \n8540                                     No surprises .               1   \n8541  We 've seen the hippie-turned-yuppie plot befo...               1   \n8542  Her fans walked out muttering words like `` ho...               1   \n8543                                In this case zero .               1   \n\n      sentiment_labels  \n0                    3  \n1                    4  \n2                    3  \n3                    2  \n4                    3  \n...                ...  \n8539                 0  \n8540                 1  \n8541                 3  \n8542                 0  \n8543                 1  \n\n[8544 rows x 3 columns]",
      "text/html": "<div>\n<style scoped>\n    .dataframe tbody tr th:only-of-type {\n        vertical-align: middle;\n    }\n\n    .dataframe tbody tr th {\n        vertical-align: top;\n    }\n\n    .dataframe thead th {\n        text-align: right;\n    }\n</style>\n<table border=\"1\" class=\"dataframe\">\n  <thead>\n    <tr style=\"text-align: right;\">\n      <th></th>\n      <th>sentence</th>\n      <th>splitset_label</th>\n      <th>sentiment_labels</th>\n    </tr>\n  </thead>\n  <tbody>\n    <tr>\n      <th>0</th>\n      <td>The Rock is destined to be the 21st Century 's...</td>\n      <td>1</td>\n      <td>3</td>\n    </tr>\n    <tr>\n      <th>1</th>\n      <td>The gorgeously elaborate continuation of `` Th...</td>\n      <td>1</td>\n      <td>4</td>\n    </tr>\n    <tr>\n      <th>2</th>\n      <td>Singer\\/composer Bryan Adams contributes a sle...</td>\n      <td>1</td>\n      <td>3</td>\n    </tr>\n    <tr>\n      <th>3</th>\n      <td>You 'd think by now America would have had eno...</td>\n      <td>1</td>\n      <td>2</td>\n    </tr>\n    <tr>\n      <th>4</th>\n      <td>Yet the act is still charming here .</td>\n      <td>1</td>\n      <td>3</td>\n    </tr>\n    <tr>\n      <th>...</th>\n      <td>...</td>\n      <td>...</td>\n      <td>...</td>\n    </tr>\n    <tr>\n      <th>8539</th>\n      <td>A real snooze .</td>\n      <td>1</td>\n      <td>0</td>\n    </tr>\n    <tr>\n      <th>8540</th>\n      <td>No surprises .</td>\n      <td>1</td>\n      <td>1</td>\n    </tr>\n    <tr>\n      <th>8541</th>\n      <td>We 've seen the hippie-turned-yuppie plot befo...</td>\n      <td>1</td>\n      <td>3</td>\n    </tr>\n    <tr>\n      <th>8542</th>\n      <td>Her fans walked out muttering words like `` ho...</td>\n      <td>1</td>\n      <td>0</td>\n    </tr>\n    <tr>\n      <th>8543</th>\n      <td>In this case zero .</td>\n      <td>1</td>\n      <td>1</td>\n    </tr>\n  </tbody>\n</table>\n<p>8544 rows × 3 columns</p>\n</div>"
     },
     "metadata": {}
    }
   ]
  },
  {
   "cell_type": "code",
   "source": [
    "dictionary = dictionary.sort_index()\n",
    "dictionary"
   ],
   "metadata": {
    "id": "81ed3baffaf61356",
    "ExecuteTime": {
     "end_time": "2024-01-03T19:31:58.017692400Z",
     "start_time": "2024-01-03T19:31:57.918163700Z"
    },
    "execution": {
     "iopub.status.busy": "2024-01-09T11:09:55.501525Z",
     "iopub.execute_input": "2024-01-09T11:09:55.503801Z",
     "iopub.status.idle": "2024-01-09T11:09:55.553838Z",
     "shell.execute_reply.started": "2024-01-09T11:09:55.503772Z",
     "shell.execute_reply": "2024-01-09T11:09:55.552781Z"
    },
    "trusted": true
   },
   "execution_count": 33,
   "outputs": [
    {
     "execution_count": 33,
     "output_type": "execute_result",
     "data": {
      "text/plain": "                                               0\n1                                               \n0                                              !\n1                                              '\n2                                            ' (\n3                              ' ( the cockettes\n4                            ' ( the cockettes )\n...                                          ...\n239227           your standard Hollywood bio-pic\n239228  your typical ` fish out of water ' story\n239229                                    zero .\n239230                         zippy jazzy score\n239231                                       UNK\n\n[239232 rows x 1 columns]",
      "text/html": "<div>\n<style scoped>\n    .dataframe tbody tr th:only-of-type {\n        vertical-align: middle;\n    }\n\n    .dataframe tbody tr th {\n        vertical-align: top;\n    }\n\n    .dataframe thead th {\n        text-align: right;\n    }\n</style>\n<table border=\"1\" class=\"dataframe\">\n  <thead>\n    <tr style=\"text-align: right;\">\n      <th></th>\n      <th>0</th>\n    </tr>\n    <tr>\n      <th>1</th>\n      <th></th>\n    </tr>\n  </thead>\n  <tbody>\n    <tr>\n      <th>0</th>\n      <td>!</td>\n    </tr>\n    <tr>\n      <th>1</th>\n      <td>'</td>\n    </tr>\n    <tr>\n      <th>2</th>\n      <td>' (</td>\n    </tr>\n    <tr>\n      <th>3</th>\n      <td>' ( the cockettes</td>\n    </tr>\n    <tr>\n      <th>4</th>\n      <td>' ( the cockettes )</td>\n    </tr>\n    <tr>\n      <th>...</th>\n      <td>...</td>\n    </tr>\n    <tr>\n      <th>239227</th>\n      <td>your standard Hollywood bio-pic</td>\n    </tr>\n    <tr>\n      <th>239228</th>\n      <td>your typical ` fish out of water ' story</td>\n    </tr>\n    <tr>\n      <th>239229</th>\n      <td>zero .</td>\n    </tr>\n    <tr>\n      <th>239230</th>\n      <td>zippy jazzy score</td>\n    </tr>\n    <tr>\n      <th>239231</th>\n      <td>UNK</td>\n    </tr>\n  </tbody>\n</table>\n<p>239232 rows × 1 columns</p>\n</div>"
     },
     "metadata": {}
    }
   ]
  },
  {
   "cell_type": "code",
   "source": [
    "data = pd.merge(dictionary, label, left_index=True, right_index=True)\n",
    "data"
   ],
   "metadata": {
    "id": "44243c37c90ffc39",
    "ExecuteTime": {
     "end_time": "2024-01-03T19:31:58.019692700Z",
     "start_time": "2024-01-03T19:31:57.965693900Z"
    },
    "execution": {
     "iopub.status.busy": "2024-01-09T11:09:55.555330Z",
     "iopub.execute_input": "2024-01-09T11:09:55.555758Z",
     "iopub.status.idle": "2024-01-09T11:09:55.600773Z",
     "shell.execute_reply.started": "2024-01-09T11:09:55.555694Z",
     "shell.execute_reply": "2024-01-09T11:09:55.599767Z"
    },
    "trusted": true
   },
   "execution_count": 34,
   "outputs": [
    {
     "execution_count": 34,
     "output_type": "execute_result",
     "data": {
      "text/plain": "                                               0  sentiment values\n1                                                                 \n0                                              !           0.50000\n1                                              '           0.50000\n2                                            ' (           0.44444\n3                              ' ( the cockettes           0.50000\n4                            ' ( the cockettes )           0.42708\n...                                          ...               ...\n239227           your standard Hollywood bio-pic           0.36111\n239228  your typical ` fish out of water ' story           0.38889\n239229                                    zero .           0.33333\n239230                         zippy jazzy score           0.88889\n239231                                       UNK           0.50000\n\n[239232 rows x 2 columns]",
      "text/html": "<div>\n<style scoped>\n    .dataframe tbody tr th:only-of-type {\n        vertical-align: middle;\n    }\n\n    .dataframe tbody tr th {\n        vertical-align: top;\n    }\n\n    .dataframe thead th {\n        text-align: right;\n    }\n</style>\n<table border=\"1\" class=\"dataframe\">\n  <thead>\n    <tr style=\"text-align: right;\">\n      <th></th>\n      <th>0</th>\n      <th>sentiment values</th>\n    </tr>\n    <tr>\n      <th>1</th>\n      <th></th>\n      <th></th>\n    </tr>\n  </thead>\n  <tbody>\n    <tr>\n      <th>0</th>\n      <td>!</td>\n      <td>0.50000</td>\n    </tr>\n    <tr>\n      <th>1</th>\n      <td>'</td>\n      <td>0.50000</td>\n    </tr>\n    <tr>\n      <th>2</th>\n      <td>' (</td>\n      <td>0.44444</td>\n    </tr>\n    <tr>\n      <th>3</th>\n      <td>' ( the cockettes</td>\n      <td>0.50000</td>\n    </tr>\n    <tr>\n      <th>4</th>\n      <td>' ( the cockettes )</td>\n      <td>0.42708</td>\n    </tr>\n    <tr>\n      <th>...</th>\n      <td>...</td>\n      <td>...</td>\n    </tr>\n    <tr>\n      <th>239227</th>\n      <td>your standard Hollywood bio-pic</td>\n      <td>0.36111</td>\n    </tr>\n    <tr>\n      <th>239228</th>\n      <td>your typical ` fish out of water ' story</td>\n      <td>0.38889</td>\n    </tr>\n    <tr>\n      <th>239229</th>\n      <td>zero .</td>\n      <td>0.33333</td>\n    </tr>\n    <tr>\n      <th>239230</th>\n      <td>zippy jazzy score</td>\n      <td>0.88889</td>\n    </tr>\n    <tr>\n      <th>239231</th>\n      <td>UNK</td>\n      <td>0.50000</td>\n    </tr>\n  </tbody>\n</table>\n<p>239232 rows × 2 columns</p>\n</div>"
     },
     "metadata": {}
    }
   ]
  },
  {
   "cell_type": "code",
   "source": [
    "# transform it to a dictionary with 'label and 'text'\n",
    "data = data.reset_index()\n",
    "data = data.rename(columns={ 0:'text', 'sentiment values':'label'})\n",
    "data = data.drop(1, axis=1)\n",
    "data = data[['label', 'text']]\n",
    "data = data.dropna()"
   ],
   "metadata": {
    "id": "394d46de1d527091",
    "ExecuteTime": {
     "end_time": "2024-01-03T19:31:58.175754300Z",
     "start_time": "2024-01-03T19:31:57.996697400Z"
    },
    "execution": {
     "iopub.status.busy": "2024-01-09T11:09:55.602419Z",
     "iopub.execute_input": "2024-01-09T11:09:55.602813Z",
     "iopub.status.idle": "2024-01-09T11:09:55.677977Z",
     "shell.execute_reply.started": "2024-01-09T11:09:55.602778Z",
     "shell.execute_reply": "2024-01-09T11:09:55.676872Z"
    },
    "trusted": true
   },
   "execution_count": 35,
   "outputs": []
  },
  {
   "cell_type": "markdown",
   "source": [
    "# 1. Fine-tuning on 5 separated classes"
   ],
   "metadata": {}
  },
  {
   "cell_type": "code",
   "source": [
    "#change the label to 5 classes 0-0.2 for 0, 0.2-0.4 for 1, 0.4-0.6 for 2, 0.6-0.8 for 3, 0.8-1 for 4\n",
    "#change the label to 5 classes 0-0.2 for 0, 0.2-0.4 for 1, 0.4-0.6 for 2, 0.6-0.8 for 3, 0.8-1 for 4\n",
    "def change_label(x):\n",
    "    if x <= 0.2:\n",
    "        return 0\n",
    "    elif x <= 0.4:\n",
    "        return 1\n",
    "    elif x <= 0.6:\n",
    "        return 2\n",
    "    elif x <= 0.8:\n",
    "        return 3\n",
    "    else:\n",
    "        return 4\n",
    "data['label'] = data['label'].apply(change_label)\n",
    "data['label'] = data['label'].dropna()\n",
    "data['text'] = data['text'].dropna()\n",
    "print(data)"
   ],
   "metadata": {
    "id": "8861c194f64f75fc",
    "ExecuteTime": {
     "end_time": "2024-01-03T19:31:58.175754300Z",
     "start_time": "2024-01-03T19:31:58.110219100Z"
    },
    "execution": {
     "iopub.status.busy": "2024-01-09T11:09:55.679567Z",
     "iopub.execute_input": "2024-01-09T11:09:55.679987Z",
     "iopub.status.idle": "2024-01-09T11:09:55.916491Z",
     "shell.execute_reply.started": "2024-01-09T11:09:55.679945Z",
     "shell.execute_reply": "2024-01-09T11:09:55.915338Z"
    },
    "trusted": true
   },
   "execution_count": 36,
   "outputs": [
    {
     "name": "stdout",
     "text": "        label                                      text\n0           2                                         !\n1           2                                         '\n2           2                                       ' (\n3           2                         ' ( the cockettes\n4           2                       ' ( the cockettes )\n...       ...                                       ...\n239227      1           your standard Hollywood bio-pic\n239228      1  your typical ` fish out of water ' story\n239229      1                                    zero .\n239230      4                         zippy jazzy score\n239231      2                                       UNK\n\n[239231 rows x 2 columns]\n",
     "output_type": "stream"
    }
   ]
  },
  {
   "cell_type": "code",
   "source": [
    "class_proportions = data['label'].value_counts()\n",
    "\n",
    "print(class_proportions)\n",
    "count_minority = len(data[data['label']==0])\n",
    "concat =[\n",
    "    data[data['label']==0],\n",
    "    data[data['label'] == 1].sample(count_minority),\n",
    "    data[data['label'] == 2].sample(count_minority),\n",
    "    data[data['label'] == 3].sample(count_minority),\n",
    "    data[data['label'] == 4].sample(count_minority)\n",
    "]\n",
    "data = pd.concat(concat)\n",
    "\n",
    "class_proportions = data['label'].value_counts()\n",
    "print(class_proportions)\n",
    "\n",
    "data = data.sample(n=10000, random_state=42)"
   ],
   "metadata": {
    "execution": {
     "iopub.status.busy": "2024-01-09T11:09:55.923291Z",
     "iopub.execute_input": "2024-01-09T11:09:55.923637Z",
     "iopub.status.idle": "2024-01-09T11:09:55.984964Z",
     "shell.execute_reply.started": "2024-01-09T11:09:55.923607Z",
     "shell.execute_reply": "2024-01-09T11:09:55.983750Z"
    },
    "trusted": true
   },
   "execution_count": 37,
   "outputs": [
    {
     "name": "stdout",
     "text": "label\n2    119448\n3     50148\n1     43028\n4     15255\n0     11352\nName: count, dtype: int64\nlabel\n0    11352\n1    11352\n2    11352\n3    11352\n4    11352\nName: count, dtype: int64\n",
     "output_type": "stream"
    }
   ]
  },
  {
   "cell_type": "code",
   "source": [
    "X= list(data['text'])\n",
    "y= list(data['label'])\n",
    "X_train, X_test, y_train, y_test = train_test_split(X,y,test_size=.2, random_state=42, stratify=y)\n",
    "#X_train, X_test, y_train, y_test = list(df_train['sentence']), list(df_test['sentence']), train_first_numbers, test_first_numbers\n",
    "\n",
    "# Check the distribution of classes in the splits\n",
    "print(\"Training set:\")\n",
    "unique, counts = np.unique(y_train, return_counts=True)\n",
    "for u, c in zip(unique, counts):\n",
    "    print(f\"Class {u}: {c} samples, {c/len(y_train)*100:.2f}%\")\n",
    "\n",
    "print(\"\\nTest set:\")\n",
    "unique, counts = np.unique(y_test, return_counts=True)\n",
    "for u, c in zip(unique, counts):\n",
    "    print(f\"Class {u}: {c} samples, {c/len(y_test)*100:.2f}%\")"
   ],
   "metadata": {
    "id": "FNZhn6tEjm4O",
    "ExecuteTime": {
     "end_time": "2024-01-03T19:31:58.210749100Z",
     "start_time": "2024-01-03T19:31:58.124220500Z"
    },
    "execution": {
     "iopub.status.busy": "2024-01-09T11:09:55.986335Z",
     "iopub.execute_input": "2024-01-09T11:09:55.986739Z",
     "iopub.status.idle": "2024-01-09T11:09:56.022346Z",
     "shell.execute_reply.started": "2024-01-09T11:09:55.986682Z",
     "shell.execute_reply": "2024-01-09T11:09:56.021071Z"
    },
    "trusted": true
   },
   "execution_count": 38,
   "outputs": [
    {
     "name": "stdout",
     "text": "Training set:\nClass 0: 1618 samples, 20.23%\nClass 1: 1568 samples, 19.60%\nClass 2: 1582 samples, 19.78%\nClass 3: 1604 samples, 20.05%\nClass 4: 1628 samples, 20.35%\n\nTest set:\nClass 0: 404 samples, 20.20%\nClass 1: 392 samples, 19.60%\nClass 2: 396 samples, 19.80%\nClass 3: 401 samples, 20.05%\nClass 4: 407 samples, 20.35%\n",
     "output_type": "stream"
    }
   ]
  },
  {
   "cell_type": "code",
   "source": [
    "tokenizer = AutoTokenizer.from_pretrained('bert-base-cased')\n",
    "\n",
    "train_encodings = tokenizer(X_train, truncation=True,padding=True)\n",
    "test_encodings = tokenizer(X_test,truncation=True,padding=True)"
   ],
   "metadata": {
    "id": "806QhLmBfRxA",
    "ExecuteTime": {
     "end_time": "2024-01-03T19:54:01.574564600Z",
     "start_time": "2024-01-03T19:53:58.874755200Z"
    },
    "execution": {
     "iopub.status.busy": "2024-01-09T11:09:56.023882Z",
     "iopub.execute_input": "2024-01-09T11:09:56.024168Z",
     "iopub.status.idle": "2024-01-09T11:09:57.068884Z",
     "shell.execute_reply.started": "2024-01-09T11:09:56.024143Z",
     "shell.execute_reply": "2024-01-09T11:09:57.067784Z"
    },
    "trusted": true
   },
   "execution_count": 39,
   "outputs": []
  },
  {
   "cell_type": "code",
   "source": [
    "from datasets.dataset_dict import DatasetDict\n",
    "from datasets import Dataset\n",
    "\n",
    "train_dataset = Dataset.from_dict({\"input_ids\": train_encodings[\"input_ids\"], \"attention_mask\": train_encodings[\"attention_mask\"], \"labels\": y_train})\n",
    "test_dataset = Dataset.from_dict({\"input_ids\": test_encodings[\"input_ids\"], \"attention_mask\": test_encodings[\"attention_mask\"], \"labels\": y_test})"
   ],
   "metadata": {
    "id": "2dPQ-X12om1N",
    "ExecuteTime": {
     "end_time": "2024-01-03T19:54:01.776589600Z",
     "start_time": "2024-01-03T19:54:01.592078200Z"
    },
    "execution": {
     "iopub.status.busy": "2024-01-09T11:09:57.070287Z",
     "iopub.execute_input": "2024-01-09T11:09:57.070651Z",
     "iopub.status.idle": "2024-01-09T11:09:57.294998Z",
     "shell.execute_reply.started": "2024-01-09T11:09:57.070614Z",
     "shell.execute_reply": "2024-01-09T11:09:57.293862Z"
    },
    "trusted": true
   },
   "execution_count": 40,
   "outputs": []
  },
  {
   "cell_type": "code",
   "source": [
    "model = AutoModelForSequenceClassification.from_pretrained(\"bert-base-cased\", num_labels=5)"
   ],
   "metadata": {
    "id": "WK_yCVS9xhaY",
    "ExecuteTime": {
     "end_time": "2024-01-03T19:54:04.306340400Z",
     "start_time": "2024-01-03T19:54:02.957950800Z"
    },
    "execution": {
     "iopub.status.busy": "2024-01-09T11:09:57.296488Z",
     "iopub.execute_input": "2024-01-09T11:09:57.297182Z",
     "iopub.status.idle": "2024-01-09T11:09:57.646114Z",
     "shell.execute_reply.started": "2024-01-09T11:09:57.297152Z",
     "shell.execute_reply": "2024-01-09T11:09:57.644961Z"
    },
    "trusted": true
   },
   "execution_count": 41,
   "outputs": [
    {
     "name": "stderr",
     "text": "Some weights of BertForSequenceClassification were not initialized from the model checkpoint at bert-base-cased and are newly initialized: ['classifier.bias', 'classifier.weight']\nYou should probably TRAIN this model on a down-stream task to be able to use it for predictions and inference.\n",
     "output_type": "stream"
    }
   ]
  },
  {
   "cell_type": "code",
   "source": [
    "metric = evaluate.load(\"accuracy\")\n",
    "\n",
    "def compute_metrics(eval_pred):\n",
    "    logits, labels = eval_pred\n",
    "    predictions = np.argmax(logits, axis=-1)\n",
    "    return metric.compute(predictions=predictions, references=labels)"
   ],
   "metadata": {
    "id": "SYXyGTRUxqFL",
    "ExecuteTime": {
     "end_time": "2024-01-03T19:54:05.555100600Z",
     "start_time": "2024-01-03T19:54:04.305340700Z"
    },
    "execution": {
     "iopub.status.busy": "2024-01-09T11:09:57.647566Z",
     "iopub.execute_input": "2024-01-09T11:09:57.649180Z",
     "iopub.status.idle": "2024-01-09T11:09:58.348817Z",
     "shell.execute_reply.started": "2024-01-09T11:09:57.649137Z",
     "shell.execute_reply": "2024-01-09T11:09:58.347659Z"
    },
    "trusted": true
   },
   "execution_count": 42,
   "outputs": []
  },
  {
   "cell_type": "code",
   "source": [
    "training_args = TrainingArguments(\n",
    "    output_dir=\"test_trainer\", \n",
    "    evaluation_strategy=\"epoch\", \n",
    "    num_train_epochs=10,     \n",
    ")"
   ],
   "metadata": {
    "id": "c9vKdfUfxqs1",
    "ExecuteTime": {
     "end_time": "2024-01-03T19:54:05.631616600Z",
     "start_time": "2024-01-03T19:54:05.556101100Z"
    },
    "execution": {
     "iopub.status.busy": "2024-01-09T11:09:58.350013Z",
     "iopub.execute_input": "2024-01-09T11:09:58.350305Z",
     "iopub.status.idle": "2024-01-09T11:09:58.362104Z",
     "shell.execute_reply.started": "2024-01-09T11:09:58.350279Z",
     "shell.execute_reply": "2024-01-09T11:09:58.361153Z"
    },
    "trusted": true
   },
   "execution_count": 43,
   "outputs": []
  },
  {
   "cell_type": "code",
   "source": [
    "trainer = Trainer(\n",
    "    model=model, \n",
    "    args=training_args, \n",
    "    train_dataset=train_dataset, \n",
    "    eval_dataset=test_dataset, \n",
    "    compute_metrics=compute_metrics, \n",
    ")"
   ],
   "metadata": {
    "id": "e6Qp-97hxt4a",
    "ExecuteTime": {
     "end_time": "2024-01-03T19:54:05.646616800Z",
     "start_time": "2024-01-03T19:54:05.587109600Z"
    },
    "execution": {
     "iopub.status.busy": "2024-01-09T11:09:58.363612Z",
     "iopub.execute_input": "2024-01-09T11:09:58.363974Z",
     "iopub.status.idle": "2024-01-09T11:09:58.496603Z",
     "shell.execute_reply.started": "2024-01-09T11:09:58.363941Z",
     "shell.execute_reply": "2024-01-09T11:09:58.495527Z"
    },
    "trusted": true
   },
   "execution_count": 44,
   "outputs": []
  },
  {
   "cell_type": "code",
   "source": [
    "trainer.train()"
   ],
   "metadata": {
    "id": "1d454a1f48dc1295",
    "is_executing": true,
    "ExecuteTime": {
     "start_time": "2024-01-03T19:54:05.757146300Z"
    },
    "execution": {
     "iopub.status.busy": "2024-01-09T11:09:58.498043Z",
     "iopub.execute_input": "2024-01-09T11:09:58.498512Z",
     "iopub.status.idle": "2024-01-09T11:31:16.280350Z",
     "shell.execute_reply.started": "2024-01-09T11:09:58.498473Z",
     "shell.execute_reply": "2024-01-09T11:31:16.279227Z"
    },
    "trusted": true
   },
   "execution_count": 45,
   "outputs": [
    {
     "name": "stderr",
     "text": "/opt/conda/lib/python3.10/site-packages/torch/nn/parallel/_functions.py:68: UserWarning: Was asked to gather along dimension 0, but all input tensors were scalars; will instead unsqueeze and return a vector.\n  warnings.warn('Was asked to gather along dimension 0, but all '\n",
     "output_type": "stream"
    },
    {
     "output_type": "display_data",
     "data": {
      "text/plain": "<IPython.core.display.HTML object>",
      "text/html": "\n    <div>\n      \n      <progress value='5000' max='5000' style='width:300px; height:20px; vertical-align: middle;'></progress>\n      [5000/5000 21:17, Epoch 10/10]\n    </div>\n    <table border=\"1\" class=\"dataframe\">\n  <thead>\n <tr style=\"text-align: left;\">\n      <th>Epoch</th>\n      <th>Training Loss</th>\n      <th>Validation Loss</th>\n      <th>Accuracy</th>\n    </tr>\n  </thead>\n  <tbody>\n    <tr>\n      <td>1</td>\n      <td>1.147100</td>\n      <td>0.975156</td>\n      <td>0.576500</td>\n    </tr>\n    <tr>\n      <td>2</td>\n      <td>0.796100</td>\n      <td>1.078182</td>\n      <td>0.581500</td>\n    </tr>\n    <tr>\n      <td>3</td>\n      <td>0.543000</td>\n      <td>1.145731</td>\n      <td>0.572500</td>\n    </tr>\n    <tr>\n      <td>4</td>\n      <td>0.347300</td>\n      <td>1.366141</td>\n      <td>0.575500</td>\n    </tr>\n    <tr>\n      <td>5</td>\n      <td>0.221100</td>\n      <td>1.853887</td>\n      <td>0.590000</td>\n    </tr>\n    <tr>\n      <td>6</td>\n      <td>0.156300</td>\n      <td>2.254389</td>\n      <td>0.582500</td>\n    </tr>\n    <tr>\n      <td>7</td>\n      <td>0.085500</td>\n      <td>2.515438</td>\n      <td>0.584000</td>\n    </tr>\n    <tr>\n      <td>8</td>\n      <td>0.055900</td>\n      <td>2.805743</td>\n      <td>0.594000</td>\n    </tr>\n    <tr>\n      <td>9</td>\n      <td>0.032800</td>\n      <td>2.967619</td>\n      <td>0.591000</td>\n    </tr>\n    <tr>\n      <td>10</td>\n      <td>0.015300</td>\n      <td>3.048944</td>\n      <td>0.585500</td>\n    </tr>\n  </tbody>\n</table><p>"
     },
     "metadata": {}
    },
    {
     "name": "stderr",
     "text": "Checkpoint destination directory test_trainer/checkpoint-500 already exists and is non-empty.Saving will proceed but saved results may be invalid.\n/opt/conda/lib/python3.10/site-packages/torch/nn/parallel/_functions.py:68: UserWarning: Was asked to gather along dimension 0, but all input tensors were scalars; will instead unsqueeze and return a vector.\n  warnings.warn('Was asked to gather along dimension 0, but all '\n/opt/conda/lib/python3.10/site-packages/torch/nn/parallel/_functions.py:68: UserWarning: Was asked to gather along dimension 0, but all input tensors were scalars; will instead unsqueeze and return a vector.\n  warnings.warn('Was asked to gather along dimension 0, but all '\nCheckpoint destination directory test_trainer/checkpoint-1000 already exists and is non-empty.Saving will proceed but saved results may be invalid.\n/opt/conda/lib/python3.10/site-packages/torch/nn/parallel/_functions.py:68: UserWarning: Was asked to gather along dimension 0, but all input tensors were scalars; will instead unsqueeze and return a vector.\n  warnings.warn('Was asked to gather along dimension 0, but all '\n/opt/conda/lib/python3.10/site-packages/torch/nn/parallel/_functions.py:68: UserWarning: Was asked to gather along dimension 0, but all input tensors were scalars; will instead unsqueeze and return a vector.\n  warnings.warn('Was asked to gather along dimension 0, but all '\nCheckpoint destination directory test_trainer/checkpoint-1500 already exists and is non-empty.Saving will proceed but saved results may be invalid.\n/opt/conda/lib/python3.10/site-packages/torch/nn/parallel/_functions.py:68: UserWarning: Was asked to gather along dimension 0, but all input tensors were scalars; will instead unsqueeze and return a vector.\n  warnings.warn('Was asked to gather along dimension 0, but all '\n/opt/conda/lib/python3.10/site-packages/torch/nn/parallel/_functions.py:68: UserWarning: Was asked to gather along dimension 0, but all input tensors were scalars; will instead unsqueeze and return a vector.\n  warnings.warn('Was asked to gather along dimension 0, but all '\nCheckpoint destination directory test_trainer/checkpoint-2000 already exists and is non-empty.Saving will proceed but saved results may be invalid.\n/opt/conda/lib/python3.10/site-packages/torch/nn/parallel/_functions.py:68: UserWarning: Was asked to gather along dimension 0, but all input tensors were scalars; will instead unsqueeze and return a vector.\n  warnings.warn('Was asked to gather along dimension 0, but all '\n/opt/conda/lib/python3.10/site-packages/torch/nn/parallel/_functions.py:68: UserWarning: Was asked to gather along dimension 0, but all input tensors were scalars; will instead unsqueeze and return a vector.\n  warnings.warn('Was asked to gather along dimension 0, but all '\nCheckpoint destination directory test_trainer/checkpoint-2500 already exists and is non-empty.Saving will proceed but saved results may be invalid.\n/opt/conda/lib/python3.10/site-packages/torch/nn/parallel/_functions.py:68: UserWarning: Was asked to gather along dimension 0, but all input tensors were scalars; will instead unsqueeze and return a vector.\n  warnings.warn('Was asked to gather along dimension 0, but all '\n/opt/conda/lib/python3.10/site-packages/torch/nn/parallel/_functions.py:68: UserWarning: Was asked to gather along dimension 0, but all input tensors were scalars; will instead unsqueeze and return a vector.\n  warnings.warn('Was asked to gather along dimension 0, but all '\nCheckpoint destination directory test_trainer/checkpoint-3000 already exists and is non-empty.Saving will proceed but saved results may be invalid.\n/opt/conda/lib/python3.10/site-packages/torch/nn/parallel/_functions.py:68: UserWarning: Was asked to gather along dimension 0, but all input tensors were scalars; will instead unsqueeze and return a vector.\n  warnings.warn('Was asked to gather along dimension 0, but all '\n/opt/conda/lib/python3.10/site-packages/torch/nn/parallel/_functions.py:68: UserWarning: Was asked to gather along dimension 0, but all input tensors were scalars; will instead unsqueeze and return a vector.\n  warnings.warn('Was asked to gather along dimension 0, but all '\nCheckpoint destination directory test_trainer/checkpoint-3500 already exists and is non-empty.Saving will proceed but saved results may be invalid.\n/opt/conda/lib/python3.10/site-packages/torch/nn/parallel/_functions.py:68: UserWarning: Was asked to gather along dimension 0, but all input tensors were scalars; will instead unsqueeze and return a vector.\n  warnings.warn('Was asked to gather along dimension 0, but all '\n/opt/conda/lib/python3.10/site-packages/torch/nn/parallel/_functions.py:68: UserWarning: Was asked to gather along dimension 0, but all input tensors were scalars; will instead unsqueeze and return a vector.\n  warnings.warn('Was asked to gather along dimension 0, but all '\nCheckpoint destination directory test_trainer/checkpoint-4000 already exists and is non-empty.Saving will proceed but saved results may be invalid.\n/opt/conda/lib/python3.10/site-packages/torch/nn/parallel/_functions.py:68: UserWarning: Was asked to gather along dimension 0, but all input tensors were scalars; will instead unsqueeze and return a vector.\n  warnings.warn('Was asked to gather along dimension 0, but all '\n/opt/conda/lib/python3.10/site-packages/torch/nn/parallel/_functions.py:68: UserWarning: Was asked to gather along dimension 0, but all input tensors were scalars; will instead unsqueeze and return a vector.\n  warnings.warn('Was asked to gather along dimension 0, but all '\nCheckpoint destination directory test_trainer/checkpoint-4500 already exists and is non-empty.Saving will proceed but saved results may be invalid.\n/opt/conda/lib/python3.10/site-packages/torch/nn/parallel/_functions.py:68: UserWarning: Was asked to gather along dimension 0, but all input tensors were scalars; will instead unsqueeze and return a vector.\n  warnings.warn('Was asked to gather along dimension 0, but all '\n/opt/conda/lib/python3.10/site-packages/torch/nn/parallel/_functions.py:68: UserWarning: Was asked to gather along dimension 0, but all input tensors were scalars; will instead unsqueeze and return a vector.\n  warnings.warn('Was asked to gather along dimension 0, but all '\nCheckpoint destination directory test_trainer/checkpoint-5000 already exists and is non-empty.Saving will proceed but saved results may be invalid.\n/opt/conda/lib/python3.10/site-packages/torch/nn/parallel/_functions.py:68: UserWarning: Was asked to gather along dimension 0, but all input tensors were scalars; will instead unsqueeze and return a vector.\n  warnings.warn('Was asked to gather along dimension 0, but all '\n",
     "output_type": "stream"
    },
    {
     "execution_count": 45,
     "output_type": "execute_result",
     "data": {
      "text/plain": "TrainOutput(global_step=5000, training_loss=0.34004270238876344, metrics={'train_runtime': 1277.3765, 'train_samples_per_second': 62.628, 'train_steps_per_second': 3.914, 'total_flos': 2672293634400000.0, 'train_loss': 0.34004270238876344, 'epoch': 10.0})"
     },
     "metadata": {}
    }
   ]
  },
  {
   "cell_type": "markdown",
   "source": [
    "## 1.2 result"
   ],
   "metadata": {}
  },
  {
   "cell_type": "code",
   "source": [
    "trainer.evaluate(test_dataset)"
   ],
   "metadata": {
    "id": "a221149074ddb794",
    "is_executing": true,
    "execution": {
     "iopub.status.busy": "2024-01-09T11:31:16.281856Z",
     "iopub.execute_input": "2024-01-09T11:31:16.282176Z",
     "iopub.status.idle": "2024-01-09T11:31:25.478084Z",
     "shell.execute_reply.started": "2024-01-09T11:31:16.282147Z",
     "shell.execute_reply": "2024-01-09T11:31:25.476793Z"
    },
    "trusted": true
   },
   "execution_count": 46,
   "outputs": [
    {
     "name": "stderr",
     "text": "/opt/conda/lib/python3.10/site-packages/torch/nn/parallel/_functions.py:68: UserWarning: Was asked to gather along dimension 0, but all input tensors were scalars; will instead unsqueeze and return a vector.\n  warnings.warn('Was asked to gather along dimension 0, but all '\n",
     "output_type": "stream"
    },
    {
     "output_type": "display_data",
     "data": {
      "text/plain": "<IPython.core.display.HTML object>",
      "text/html": ""
     },
     "metadata": {}
    },
    {
     "execution_count": 46,
     "output_type": "execute_result",
     "data": {
      "text/plain": "{'eval_loss': 3.0489439964294434,\n 'eval_accuracy': 0.5855,\n 'eval_runtime': 9.1831,\n 'eval_samples_per_second': 217.792,\n 'eval_steps_per_second': 13.612,\n 'epoch': 10.0}"
     },
     "metadata": {}
    }
   ]
  },
  {
   "cell_type": "code",
   "source": [
    "predictions = trainer.predict(test_dataset)\n",
    "predicted_labels = predictions.predictions.argmax(-1)\n",
    "\n",
    "# Get the true labels\n",
    "\n",
    "# Create a DataFrame to compare the predicted and true labels\n",
    "import pandas as pd\n",
    "results = pd.DataFrame({\n",
    "    'Predicted Label': predicted_labels,\n",
    "    'True Label': y_test\n",
    "})\n",
    "\n",
    "print(results)\n"
   ],
   "metadata": {
    "id": "8LmDzgbDyH9E",
    "ExecuteTime": {
     "start_time": "2024-01-03T19:35:03.346870800Z"
    },
    "execution": {
     "iopub.status.busy": "2024-01-09T11:31:25.479672Z",
     "iopub.execute_input": "2024-01-09T11:31:25.480068Z",
     "iopub.status.idle": "2024-01-09T11:31:34.464541Z",
     "shell.execute_reply.started": "2024-01-09T11:31:25.480019Z",
     "shell.execute_reply": "2024-01-09T11:31:34.463197Z"
    },
    "trusted": true
   },
   "execution_count": 47,
   "outputs": [
    {
     "name": "stderr",
     "text": "/opt/conda/lib/python3.10/site-packages/torch/nn/parallel/_functions.py:68: UserWarning: Was asked to gather along dimension 0, but all input tensors were scalars; will instead unsqueeze and return a vector.\n  warnings.warn('Was asked to gather along dimension 0, but all '\n",
     "output_type": "stream"
    },
    {
     "name": "stdout",
     "text": "      Predicted Label  True Label\n0                   1           0\n1                   4           3\n2                   1           1\n3                   0           0\n4                   1           2\n...               ...         ...\n1995                2           2\n1996                1           0\n1997                1           1\n1998                1           0\n1999                3           4\n\n[2000 rows x 2 columns]\n",
     "output_type": "stream"
    }
   ]
  },
  {
   "cell_type": "code",
   "source": [
    "precision, recall, f1, _ = metrics.precision_recall_fscore_support(y_true=y_test, y_pred=predicted_labels, average='macro')\n",
    "precision, recall, f1"
   ],
   "metadata": {
    "execution": {
     "iopub.status.busy": "2024-01-09T11:31:34.465961Z",
     "iopub.execute_input": "2024-01-09T11:31:34.466319Z",
     "iopub.status.idle": "2024-01-09T11:31:34.480054Z",
     "shell.execute_reply.started": "2024-01-09T11:31:34.466282Z",
     "shell.execute_reply": "2024-01-09T11:31:34.478964Z"
    },
    "trusted": true
   },
   "execution_count": 48,
   "outputs": [
    {
     "execution_count": 48,
     "output_type": "execute_result",
     "data": {
      "text/plain": "(0.5904049290842304, 0.5846906507523352, 0.5862830968742292)"
     },
     "metadata": {}
    }
   ]
  },
  {
   "cell_type": "code",
   "source": [
    "import seaborn as sns\n",
    "import tensorflow as tf\n",
    "import matplotlib.pyplot as plt\n",
    "from sklearn.metrics import confusion_matrix\n",
    "y_true = y_test\n",
    "y_pred = predicted_labels\n",
    "\n",
    "# Create confusion matrix\n",
    "cm = confusion_matrix(y_true, y_pred)\n",
    "\n",
    "classes = [0,1,2,3,4]\n",
    "plt.figure(figsize=(8, 6))\n",
    "sns.heatmap(cm, annot=True, fmt=\"d\", cmap=\"Blues\", xticklabels=classes, yticklabels=classes)\n",
    "plt.title(\"Confusion Matrix\")\n",
    "plt.xlabel(\"Predicted Labels\")\n",
    "plt.ylabel(\"True Labels\")\n",
    "plt.show()"
   ],
   "metadata": {
    "execution": {
     "iopub.status.busy": "2024-01-09T11:31:34.481744Z",
     "iopub.execute_input": "2024-01-09T11:31:34.482522Z",
     "iopub.status.idle": "2024-01-09T11:31:34.963047Z",
     "shell.execute_reply.started": "2024-01-09T11:31:34.482488Z",
     "shell.execute_reply": "2024-01-09T11:31:34.961683Z"
    },
    "trusted": true
   },
   "execution_count": 49,
   "outputs": [
    {
     "output_type": "display_data",
     "data": {
      "text/plain": "<Figure size 800x600 with 2 Axes>",
      "image/png": "[encoded data removed]"
     },
     "metadata": {}
    }
   ]
  },
  {
   "cell_type": "markdown",
   "source": [
    "# 2. Fine-tuning on 3 separated classes"
   ],
   "metadata": {}
  },
  {
   "cell_type": "code",
   "source": [
    "#change the label to 3 classes 0-1 for 0, 2 for 1, 3-4 for 2\n",
    "def change_label(x):\n",
    "    if x <= 1:\n",
    "        return 0\n",
    "    elif x == 2:\n",
    "        return 1\n",
    "    else:\n",
    "        return 2\n",
    "data['label'] = data['label'].apply(change_label)\n",
    "data['label'] = data['label'].dropna()\n",
    "data['text'] = data['text'].dropna()"
   ],
   "metadata": {
    "execution": {
     "iopub.status.busy": "2024-01-09T11:31:34.964182Z",
     "iopub.execute_input": "2024-01-09T11:31:34.964569Z",
     "iopub.status.idle": "2024-01-09T11:31:34.983512Z",
     "shell.execute_reply.started": "2024-01-09T11:31:34.964504Z",
     "shell.execute_reply": "2024-01-09T11:31:34.982360Z"
    },
    "trusted": true
   },
   "execution_count": 50,
   "outputs": []
  },
  {
   "cell_type": "code",
   "source": [
    "X= list(data['text'])\n",
    "y= list(data['label'])\n",
    "X_train, X_test, y_train, y_test = train_test_split(X,y,test_size=.2, random_state=42, stratify=y)\n",
    "#X_train, X_test, y_train, y_test = list(df_train['sentence']), list(df_test['sentence']), train_first_numbers, test_first_numbers\n",
    "\n",
    "# Check the distribution of classes in the splits\n",
    "print(\"Training set:\")\n",
    "unique, counts = np.unique(y_train, return_counts=True)\n",
    "for u, c in zip(unique, counts):\n",
    "    print(f\"Class {u}: {c} samples, {c/len(y_train)*100:.2f}%\")\n",
    "\n",
    "print(\"\\nTest set:\")\n",
    "unique, counts = np.unique(y_test, return_counts=True)\n",
    "for u, c in zip(unique, counts):\n",
    "    print(f\"Class {u}: {c} samples, {c/len(y_test)*100:.2f}%\")"
   ],
   "metadata": {
    "execution": {
     "iopub.status.busy": "2024-01-09T11:31:34.984845Z",
     "iopub.execute_input": "2024-01-09T11:31:34.985294Z",
     "iopub.status.idle": "2024-01-09T11:31:35.017199Z",
     "shell.execute_reply.started": "2024-01-09T11:31:34.985266Z",
     "shell.execute_reply": "2024-01-09T11:31:35.015952Z"
    },
    "trusted": true
   },
   "execution_count": 51,
   "outputs": [
    {
     "name": "stdout",
     "text": "Training set:\nClass 0: 3186 samples, 39.83%\nClass 1: 1582 samples, 19.78%\nClass 2: 3232 samples, 40.40%\n\nTest set:\nClass 0: 796 samples, 39.80%\nClass 1: 396 samples, 19.80%\nClass 2: 808 samples, 40.40%\n",
     "output_type": "stream"
    }
   ]
  },
  {
   "cell_type": "code",
   "source": [
    "tokenizer = AutoTokenizer.from_pretrained('bert-base-cased')\n",
    "\n",
    "train_encodings = tokenizer(X_train, truncation=True,padding=True)\n",
    "test_encodings = tokenizer(X_test,truncation=True,padding=True)"
   ],
   "metadata": {
    "execution": {
     "iopub.status.busy": "2024-01-09T11:31:35.018784Z",
     "iopub.execute_input": "2024-01-09T11:31:35.019466Z",
     "iopub.status.idle": "2024-01-09T11:31:35.597613Z",
     "shell.execute_reply.started": "2024-01-09T11:31:35.019428Z",
     "shell.execute_reply": "2024-01-09T11:31:35.596585Z"
    },
    "trusted": true
   },
   "execution_count": 52,
   "outputs": []
  },
  {
   "cell_type": "code",
   "source": [
    "train_dataset = Dataset.from_dict({\"input_ids\": train_encodings[\"input_ids\"], \"attention_mask\": train_encodings[\"attention_mask\"], \"labels\": y_train})\n",
    "test_dataset = Dataset.from_dict({\"input_ids\": test_encodings[\"input_ids\"], \"attention_mask\": test_encodings[\"attention_mask\"], \"labels\": y_test})"
   ],
   "metadata": {
    "execution": {
     "iopub.status.busy": "2024-01-09T11:31:35.598828Z",
     "iopub.execute_input": "2024-01-09T11:31:35.599093Z",
     "iopub.status.idle": "2024-01-09T11:31:35.827475Z",
     "shell.execute_reply.started": "2024-01-09T11:31:35.599069Z",
     "shell.execute_reply": "2024-01-09T11:31:35.826449Z"
    },
    "trusted": true
   },
   "execution_count": 53,
   "outputs": []
  },
  {
   "cell_type": "code",
   "source": [
    "model = AutoModelForSequenceClassification.from_pretrained(\"bert-base-cased\", num_labels=3)"
   ],
   "metadata": {
    "execution": {
     "iopub.status.busy": "2024-01-09T11:31:35.830522Z",
     "iopub.execute_input": "2024-01-09T11:31:35.831601Z",
     "iopub.status.idle": "2024-01-09T11:31:36.165094Z",
     "shell.execute_reply.started": "2024-01-09T11:31:35.831563Z",
     "shell.execute_reply": "2024-01-09T11:31:36.164009Z"
    },
    "trusted": true
   },
   "execution_count": 54,
   "outputs": [
    {
     "name": "stderr",
     "text": "Some weights of BertForSequenceClassification were not initialized from the model checkpoint at bert-base-cased and are newly initialized: ['classifier.bias', 'classifier.weight']\nYou should probably TRAIN this model on a down-stream task to be able to use it for predictions and inference.\n",
     "output_type": "stream"
    }
   ]
  },
  {
   "cell_type": "code",
   "source": [
    "metric = evaluate.load(\"accuracy\")\n",
    "\n",
    "def compute_metrics(eval_pred):\n",
    "    logits, labels = eval_pred\n",
    "    predictions = np.argmax(logits, axis=-1)\n",
    "    return metric.compute(predictions=predictions, references=labels)"
   ],
   "metadata": {
    "execution": {
     "iopub.status.busy": "2024-01-09T11:31:36.166370Z",
     "iopub.execute_input": "2024-01-09T11:31:36.167227Z",
     "iopub.status.idle": "2024-01-09T11:31:36.809642Z",
     "shell.execute_reply.started": "2024-01-09T11:31:36.167197Z",
     "shell.execute_reply": "2024-01-09T11:31:36.808615Z"
    },
    "trusted": true
   },
   "execution_count": 55,
   "outputs": []
  },
  {
   "cell_type": "code",
   "source": [
    "training_args = TrainingArguments(\n",
    "    output_dir=\"test_trainer\", \n",
    "    evaluation_strategy=\"epoch\", \n",
    "    num_train_epochs=10,     \n",
    ")"
   ],
   "metadata": {
    "execution": {
     "iopub.status.busy": "2024-01-09T11:31:36.811042Z",
     "iopub.execute_input": "2024-01-09T11:31:36.811365Z",
     "iopub.status.idle": "2024-01-09T11:31:36.836571Z",
     "shell.execute_reply.started": "2024-01-09T11:31:36.811338Z",
     "shell.execute_reply": "2024-01-09T11:31:36.835702Z"
    },
    "trusted": true
   },
   "execution_count": 56,
   "outputs": []
  },
  {
   "cell_type": "code",
   "source": [
    "trainer = Trainer(\n",
    "    model=model, \n",
    "    args=training_args, \n",
    "    train_dataset=train_dataset, \n",
    "    eval_dataset=test_dataset, \n",
    "    compute_metrics=compute_metrics, \n",
    ")"
   ],
   "metadata": {
    "execution": {
     "iopub.status.busy": "2024-01-09T11:31:36.837935Z",
     "iopub.execute_input": "2024-01-09T11:31:36.838303Z",
     "iopub.status.idle": "2024-01-09T11:31:36.969566Z",
     "shell.execute_reply.started": "2024-01-09T11:31:36.838269Z",
     "shell.execute_reply": "2024-01-09T11:31:36.968394Z"
    },
    "trusted": true
   },
   "execution_count": 57,
   "outputs": []
  },
  {
   "cell_type": "code",
   "source": [
    "trainer.train()"
   ],
   "metadata": {
    "execution": {
     "iopub.status.busy": "2024-01-09T11:31:36.974987Z",
     "iopub.execute_input": "2024-01-09T11:31:36.975756Z",
     "iopub.status.idle": "2024-01-09T11:52:50.026823Z",
     "shell.execute_reply.started": "2024-01-09T11:31:36.975687Z",
     "shell.execute_reply": "2024-01-09T11:52:50.025647Z"
    },
    "trusted": true
   },
   "execution_count": 58,
   "outputs": [
    {
     "name": "stderr",
     "text": "/opt/conda/lib/python3.10/site-packages/torch/nn/parallel/_functions.py:68: UserWarning: Was asked to gather along dimension 0, but all input tensors were scalars; will instead unsqueeze and return a vector.\n  warnings.warn('Was asked to gather along dimension 0, but all '\n",
     "output_type": "stream"
    },
    {
     "output_type": "display_data",
     "data": {
      "text/plain": "<IPython.core.display.HTML object>",
      "text/html": "\n    <div>\n      \n      <progress value='5000' max='5000' style='width:300px; height:20px; vertical-align: middle;'></progress>\n      [5000/5000 21:12, Epoch 10/10]\n    </div>\n    <table border=\"1\" class=\"dataframe\">\n  <thead>\n <tr style=\"text-align: left;\">\n      <th>Epoch</th>\n      <th>Training Loss</th>\n      <th>Validation Loss</th>\n      <th>Accuracy</th>\n    </tr>\n  </thead>\n  <tbody>\n    <tr>\n      <td>1</td>\n      <td>0.621400</td>\n      <td>0.584391</td>\n      <td>0.791000</td>\n    </tr>\n    <tr>\n      <td>2</td>\n      <td>0.374400</td>\n      <td>0.524480</td>\n      <td>0.798500</td>\n    </tr>\n    <tr>\n      <td>3</td>\n      <td>0.240700</td>\n      <td>0.680957</td>\n      <td>0.799500</td>\n    </tr>\n    <tr>\n      <td>4</td>\n      <td>0.162600</td>\n      <td>0.932027</td>\n      <td>0.797500</td>\n    </tr>\n    <tr>\n      <td>5</td>\n      <td>0.106500</td>\n      <td>1.110108</td>\n      <td>0.807000</td>\n    </tr>\n    <tr>\n      <td>6</td>\n      <td>0.059200</td>\n      <td>1.223815</td>\n      <td>0.794500</td>\n    </tr>\n    <tr>\n      <td>7</td>\n      <td>0.030200</td>\n      <td>1.430838</td>\n      <td>0.797500</td>\n    </tr>\n    <tr>\n      <td>8</td>\n      <td>0.018400</td>\n      <td>1.535667</td>\n      <td>0.800500</td>\n    </tr>\n    <tr>\n      <td>9</td>\n      <td>0.010400</td>\n      <td>1.631069</td>\n      <td>0.800000</td>\n    </tr>\n    <tr>\n      <td>10</td>\n      <td>0.002600</td>\n      <td>1.684472</td>\n      <td>0.797000</td>\n    </tr>\n  </tbody>\n</table><p>"
     },
     "metadata": {}
    },
    {
     "name": "stderr",
     "text": "Checkpoint destination directory test_trainer/checkpoint-500 already exists and is non-empty.Saving will proceed but saved results may be invalid.\n/opt/conda/lib/python3.10/site-packages/torch/nn/parallel/_functions.py:68: UserWarning: Was asked to gather along dimension 0, but all input tensors were scalars; will instead unsqueeze and return a vector.\n  warnings.warn('Was asked to gather along dimension 0, but all '\n/opt/conda/lib/python3.10/site-packages/torch/nn/parallel/_functions.py:68: UserWarning: Was asked to gather along dimension 0, but all input tensors were scalars; will instead unsqueeze and return a vector.\n  warnings.warn('Was asked to gather along dimension 0, but all '\nCheckpoint destination directory test_trainer/checkpoint-1000 already exists and is non-empty.Saving will proceed but saved results may be invalid.\n/opt/conda/lib/python3.10/site-packages/torch/nn/parallel/_functions.py:68: UserWarning: Was asked to gather along dimension 0, but all input tensors were scalars; will instead unsqueeze and return a vector.\n  warnings.warn('Was asked to gather along dimension 0, but all '\n/opt/conda/lib/python3.10/site-packages/torch/nn/parallel/_functions.py:68: UserWarning: Was asked to gather along dimension 0, but all input tensors were scalars; will instead unsqueeze and return a vector.\n  warnings.warn('Was asked to gather along dimension 0, but all '\nCheckpoint destination directory test_trainer/checkpoint-1500 already exists and is non-empty.Saving will proceed but saved results may be invalid.\n/opt/conda/lib/python3.10/site-packages/torch/nn/parallel/_functions.py:68: UserWarning: Was asked to gather along dimension 0, but all input tensors were scalars; will instead unsqueeze and return a vector.\n  warnings.warn('Was asked to gather along dimension 0, but all '\n/opt/conda/lib/python3.10/site-packages/torch/nn/parallel/_functions.py:68: UserWarning: Was asked to gather along dimension 0, but all input tensors were scalars; will instead unsqueeze and return a vector.\n  warnings.warn('Was asked to gather along dimension 0, but all '\nCheckpoint destination directory test_trainer/checkpoint-2000 already exists and is non-empty.Saving will proceed but saved results may be invalid.\n/opt/conda/lib/python3.10/site-packages/torch/nn/parallel/_functions.py:68: UserWarning: Was asked to gather along dimension 0, but all input tensors were scalars; will instead unsqueeze and return a vector.\n  warnings.warn('Was asked to gather along dimension 0, but all '\n/opt/conda/lib/python3.10/site-packages/torch/nn/parallel/_functions.py:68: UserWarning: Was asked to gather along dimension 0, but all input tensors were scalars; will instead unsqueeze and return a vector.\n  warnings.warn('Was asked to gather along dimension 0, but all '\nCheckpoint destination directory test_trainer/checkpoint-2500 already exists and is non-empty.Saving will proceed but saved results may be invalid.\n/opt/conda/lib/python3.10/site-packages/torch/nn/parallel/_functions.py:68: UserWarning: Was asked to gather along dimension 0, but all input tensors were scalars; will instead unsqueeze and return a vector.\n  warnings.warn('Was asked to gather along dimension 0, but all '\n/opt/conda/lib/python3.10/site-packages/torch/nn/parallel/_functions.py:68: UserWarning: Was asked to gather along dimension 0, but all input tensors were scalars; will instead unsqueeze and return a vector.\n  warnings.warn('Was asked to gather along dimension 0, but all '\nCheckpoint destination directory test_trainer/checkpoint-3000 already exists and is non-empty.Saving will proceed but saved results may be invalid.\n/opt/conda/lib/python3.10/site-packages/torch/nn/parallel/_functions.py:68: UserWarning: Was asked to gather along dimension 0, but all input tensors were scalars; will instead unsqueeze and return a vector.\n  warnings.warn('Was asked to gather along dimension 0, but all '\n/opt/conda/lib/python3.10/site-packages/torch/nn/parallel/_functions.py:68: UserWarning: Was asked to gather along dimension 0, but all input tensors were scalars; will instead unsqueeze and return a vector.\n  warnings.warn('Was asked to gather along dimension 0, but all '\nCheckpoint destination directory test_trainer/checkpoint-3500 already exists and is non-empty.Saving will proceed but saved results may be invalid.\n/opt/conda/lib/python3.10/site-packages/torch/nn/parallel/_functions.py:68: UserWarning: Was asked to gather along dimension 0, but all input tensors were scalars; will instead unsqueeze and return a vector.\n  warnings.warn('Was asked to gather along dimension 0, but all '\n/opt/conda/lib/python3.10/site-packages/torch/nn/parallel/_functions.py:68: UserWarning: Was asked to gather along dimension 0, but all input tensors were scalars; will instead unsqueeze and return a vector.\n  warnings.warn('Was asked to gather along dimension 0, but all '\nCheckpoint destination directory test_trainer/checkpoint-4000 already exists and is non-empty.Saving will proceed but saved results may be invalid.\n/opt/conda/lib/python3.10/site-packages/torch/nn/parallel/_functions.py:68: UserWarning: Was asked to gather along dimension 0, but all input tensors were scalars; will instead unsqueeze and return a vector.\n  warnings.warn('Was asked to gather along dimension 0, but all '\n/opt/conda/lib/python3.10/site-packages/torch/nn/parallel/_functions.py:68: UserWarning: Was asked to gather along dimension 0, but all input tensors were scalars; will instead unsqueeze and return a vector.\n  warnings.warn('Was asked to gather along dimension 0, but all '\nCheckpoint destination directory test_trainer/checkpoint-4500 already exists and is non-empty.Saving will proceed but saved results may be invalid.\n/opt/conda/lib/python3.10/site-packages/torch/nn/parallel/_functions.py:68: UserWarning: Was asked to gather along dimension 0, but all input tensors were scalars; will instead unsqueeze and return a vector.\n  warnings.warn('Was asked to gather along dimension 0, but all '\n/opt/conda/lib/python3.10/site-packages/torch/nn/parallel/_functions.py:68: UserWarning: Was asked to gather along dimension 0, but all input tensors were scalars; will instead unsqueeze and return a vector.\n  warnings.warn('Was asked to gather along dimension 0, but all '\nCheckpoint destination directory test_trainer/checkpoint-5000 already exists and is non-empty.Saving will proceed but saved results may be invalid.\n/opt/conda/lib/python3.10/site-packages/torch/nn/parallel/_functions.py:68: UserWarning: Was asked to gather along dimension 0, but all input tensors were scalars; will instead unsqueeze and return a vector.\n  warnings.warn('Was asked to gather along dimension 0, but all '\n",
     "output_type": "stream"
    },
    {
     "execution_count": 58,
     "output_type": "execute_result",
     "data": {
      "text/plain": "TrainOutput(global_step=5000, training_loss=0.16264825232028962, metrics={'train_runtime': 1272.5201, 'train_samples_per_second': 62.867, 'train_steps_per_second': 3.929, 'total_flos': 2672245648800000.0, 'train_loss': 0.16264825232028962, 'epoch': 10.0})"
     },
     "metadata": {}
    }
   ]
  },
  {
   "cell_type": "markdown",
   "source": [
    "## 2.1 results"
   ],
   "metadata": {}
  },
  {
   "cell_type": "code",
   "source": [
    "trainer.evaluate(test_dataset)"
   ],
   "metadata": {
    "execution": {
     "iopub.status.busy": "2024-01-09T11:52:50.028812Z",
     "iopub.execute_input": "2024-01-09T11:52:50.029502Z",
     "iopub.status.idle": "2024-01-09T11:52:58.923660Z",
     "shell.execute_reply.started": "2024-01-09T11:52:50.029464Z",
     "shell.execute_reply": "2024-01-09T11:52:58.922778Z"
    },
    "trusted": true
   },
   "execution_count": 59,
   "outputs": [
    {
     "name": "stderr",
     "text": "/opt/conda/lib/python3.10/site-packages/torch/nn/parallel/_functions.py:68: UserWarning: Was asked to gather along dimension 0, but all input tensors were scalars; will instead unsqueeze and return a vector.\n  warnings.warn('Was asked to gather along dimension 0, but all '\n",
     "output_type": "stream"
    },
    {
     "output_type": "display_data",
     "data": {
      "text/plain": "<IPython.core.display.HTML object>",
      "text/html": ""
     },
     "metadata": {}
    },
    {
     "execution_count": 59,
     "output_type": "execute_result",
     "data": {
      "text/plain": "{'eval_loss': 1.684471607208252,\n 'eval_accuracy': 0.797,\n 'eval_runtime': 8.8819,\n 'eval_samples_per_second': 225.178,\n 'eval_steps_per_second': 14.074,\n 'epoch': 10.0}"
     },
     "metadata": {}
    }
   ]
  },
  {
   "cell_type": "code",
   "source": [
    "predictions = trainer.predict(test_dataset)\n",
    "\n",
    "predicted_labels = predictions.predictions.argmax(-1)\n",
    "\n",
    "# Get the true labels\n",
    "\n",
    "# Create a DataFrame to compare the predicted and true labels\n",
    "import pandas as pd\n",
    "results = pd.DataFrame({\n",
    "    'Predicted Label': predicted_labels,\n",
    "    'True Label': y_test\n",
    "})\n",
    "\n",
    "print(results)\n"
   ],
   "metadata": {
    "execution": {
     "iopub.status.busy": "2024-01-09T11:52:58.925255Z",
     "iopub.execute_input": "2024-01-09T11:52:58.925695Z",
     "iopub.status.idle": "2024-01-09T11:53:07.911338Z",
     "shell.execute_reply.started": "2024-01-09T11:52:58.925655Z",
     "shell.execute_reply": "2024-01-09T11:53:07.910340Z"
    },
    "trusted": true
   },
   "execution_count": 60,
   "outputs": [
    {
     "name": "stderr",
     "text": "/opt/conda/lib/python3.10/site-packages/torch/nn/parallel/_functions.py:68: UserWarning: Was asked to gather along dimension 0, but all input tensors were scalars; will instead unsqueeze and return a vector.\n  warnings.warn('Was asked to gather along dimension 0, but all '\n",
     "output_type": "stream"
    },
    {
     "name": "stdout",
     "text": "      Predicted Label  True Label\n0                   0           0\n1                   2           2\n2                   2           2\n3                   0           0\n4                   2           2\n...               ...         ...\n1995                2           2\n1996                2           2\n1997                0           0\n1998                2           1\n1999                1           1\n\n[2000 rows x 2 columns]\n",
     "output_type": "stream"
    }
   ]
  },
  {
   "cell_type": "code",
   "source": [
    "precision, recall, f1, _ = metrics.precision_recall_fscore_support(y_true=y_test, y_pred=predicted_labels, average='macro')\n",
    "precision, recall, f1"
   ],
   "metadata": {
    "execution": {
     "iopub.status.busy": "2024-01-09T11:53:07.912857Z",
     "iopub.execute_input": "2024-01-09T11:53:07.913172Z",
     "iopub.status.idle": "2024-01-09T11:53:07.927137Z",
     "shell.execute_reply.started": "2024-01-09T11:53:07.913140Z",
     "shell.execute_reply": "2024-01-09T11:53:07.926069Z"
    },
    "trusted": true
   },
   "execution_count": 61,
   "outputs": [
    {
     "execution_count": 61,
     "output_type": "execute_result",
     "data": {
      "text/plain": "(0.7602392447324982, 0.7579005806778333, 0.758972206214323)"
     },
     "metadata": {}
    }
   ]
  },
  {
   "cell_type": "code",
   "source": [
    "import seaborn as sns\n",
    "import tensorflow as tf\n",
    "import matplotlib.pyplot as plt\n",
    "from sklearn.metrics import confusion_matrix\n",
    "y_true = y_test\n",
    "y_pred = predicted_labels\n",
    "\n",
    "# Create confusion matrix\n",
    "cm = confusion_matrix(y_true, y_pred)\n",
    "\n",
    "classes = [0,1,2]\n",
    "plt.figure(figsize=(8, 6))\n",
    "sns.heatmap(cm, annot=True, fmt=\"d\", cmap=\"Blues\", xticklabels=classes, yticklabels=classes)\n",
    "plt.title(\"Confusion Matrix\")\n",
    "plt.xlabel(\"Predicted Labels\")\n",
    "plt.ylabel(\"True Labels\")\n",
    "plt.show()"
   ],
   "metadata": {
    "execution": {
     "iopub.status.busy": "2024-01-09T11:53:07.928314Z",
     "iopub.execute_input": "2024-01-09T11:53:07.928703Z",
     "iopub.status.idle": "2024-01-09T11:53:08.254807Z",
     "shell.execute_reply.started": "2024-01-09T11:53:07.928674Z",
     "shell.execute_reply": "2024-01-09T11:53:08.252646Z"
    },
    "trusted": true
   },
   "execution_count": 62,
   "outputs": [
    {
     "output_type": "display_data",
     "data": {
      "text/plain": "<Figure size 800x600 with 2 Axes>",
      "image/png": "[encoded data removed]"
     },
     "metadata": {}
    }
   ]
  }
 ]
}
