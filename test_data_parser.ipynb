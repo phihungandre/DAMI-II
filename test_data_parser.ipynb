{
 "cells": [
  {
   "cell_type": "code",
   "execution_count": 3,
   "metadata": {},
   "outputs": [],
   "source": [
    "import re\n",
    "import pandas as pd\n",
    "\n",
    "\n",
    "df = pd.read_csv(\"./sst_dataset/SST2-Data/SST2-Data/stanfordSentimentTreebank/stanfordSentimentTreebank/datasetSentences.txt\", sep=\"\\t\", index_col=0)\n",
    "datasetSplit = pd.read_csv(\"./sst_dataset/SST2-Data/SST2-Data/stanfordSentimentTreebank/stanfordSentimentTreebank/datasetSplit.txt\", index_col=0)\n",
    "\n",
    "file_path = \"./sst_dataset/SST2-Data/SST2-Data/trainDevTestTrees_PTB/trees/test.txt\"\n",
    "\n",
    "# Initialize an empty list to store the first numbers\n",
    "first_numbers = []\n",
    "\n",
    "# Open the file and read it line by line\n",
    "with open(file_path, 'r') as file:\n",
    "    for line in file:\n",
    "        # Find the first occurrence of a number in each line\n",
    "        match = re.search(r'\\d+', line)\n",
    "        if match:\n",
    "            # Append the found number to the list\n",
    "            first_numbers.append(int(match.group()))\n",
    "\n",
    "# Create a DataFrame from the list of first numbers\n",
    "labels_test = pd.DataFrame(first_numbers, columns=['sentiment_labels'])\n",
    "\n",
    "df_test = df[datasetSplit['splitset_label'] == 2]\n",
    "df_test = df_test.reset_index(drop=True)\n",
    "labels_test\n",
    "\n",
    "labels_test.to_csv('./sst_dataset/SST2-Data/SST2-Data/stanfordSentimentTreebank/stanfordSentimentTreebank/sentiment_labels_test.txt', sep='\\t', index=True)"
   ]
  }
 ],
 "metadata": {
  "kernelspec": {
   "display_name": "gpt",
   "language": "python",
   "name": "python3"
  },
  "language_info": {
   "codemirror_mode": {
    "name": "ipython",
    "version": 3
   },
   "file_extension": ".py",
   "mimetype": "text/x-python",
   "name": "python",
   "nbconvert_exporter": "python",
   "pygments_lexer": "ipython3",
   "version": "3.8.18"
  }
 },
 "nbformat": 4,
 "nbformat_minor": 2
}
