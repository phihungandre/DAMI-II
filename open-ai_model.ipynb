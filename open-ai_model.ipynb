{
 "cells": [
  {
   "cell_type": "markdown",
   "metadata": {},
   "source": [
    "# Test GPT in Python"
   ]
  },
  {
   "cell_type": "code",
   "execution_count": 1,
   "metadata": {},
   "outputs": [],
   "source": [
    "import pandas as pd\n",
    "import numpy as np\n",
    "import re\n",
    "from openai import OpenAI"
   ]
  },
  {
   "cell_type": "markdown",
   "metadata": {},
   "source": [
    "## Import Data"
   ]
  },
  {
   "cell_type": "code",
   "execution_count": 2,
   "metadata": {},
   "outputs": [],
   "source": [
    "df = pd.read_csv(\"./sst_dataset/SST2-Data/SST2-Data/stanfordSentimentTreebank/stanfordSentimentTreebank/datasetSentences.txt\", sep=\"\\t\", index_col=0)\n",
    "datasetSplit = pd.read_csv(\"./sst_dataset/SST2-Data/SST2-Data/stanfordSentimentTreebank/stanfordSentimentTreebank/datasetSplit.txt\", index_col=0)"
   ]
  },
  {
   "cell_type": "markdown",
   "metadata": {},
   "source": [
    "#### The sentiments of the sentences are in this file in the beginning of each line, for example: \"( 1 ...\""
   ]
  },
  {
   "cell_type": "code",
   "execution_count": 3,
   "metadata": {},
   "outputs": [],
   "source": [
    "file_path = \"./sst_dataset/SST2-Data/SST2-Data/trainDevTestTrees_PTB/trees/test.txt\"\n",
    "\n",
    "# Initialize an empty list to store the first numbers\n",
    "first_numbers = []\n",
    "\n",
    "# Open the file and read it line by line\n",
    "with open(file_path, 'r') as file:\n",
    "    for line in file:\n",
    "        # Find the first occurrence of a number in each line\n",
    "        match = re.search(r'\\d+', line)\n",
    "        if match:\n",
    "            # Append the found number to the list\n",
    "            first_numbers.append(int(match.group()))\n",
    "\n",
    "# Create a DataFrame from the list of first numbers\n",
    "labels_test = pd.DataFrame(first_numbers, columns=['sentiment_labels'])"
   ]
  },
  {
   "cell_type": "markdown",
   "metadata": {},
   "source": [
    "### Seperate test data"
   ]
  },
  {
   "cell_type": "code",
   "execution_count": 4,
   "metadata": {},
   "outputs": [
    {
     "data": {
      "text/html": [
       "<div>\n",
       "<style scoped>\n",
       "    .dataframe tbody tr th:only-of-type {\n",
       "        vertical-align: middle;\n",
       "    }\n",
       "\n",
       "    .dataframe tbody tr th {\n",
       "        vertical-align: top;\n",
       "    }\n",
       "\n",
       "    .dataframe thead th {\n",
       "        text-align: right;\n",
       "    }\n",
       "</style>\n",
       "<table border=\"1\" class=\"dataframe\">\n",
       "  <thead>\n",
       "    <tr style=\"text-align: right;\">\n",
       "      <th></th>\n",
       "      <th>sentence</th>\n",
       "    </tr>\n",
       "    <tr>\n",
       "      <th>sentence_index</th>\n",
       "      <th></th>\n",
       "    </tr>\n",
       "  </thead>\n",
       "  <tbody>\n",
       "    <tr>\n",
       "      <th>3</th>\n",
       "      <td>Effective but too-tepid biopic</td>\n",
       "    </tr>\n",
       "    <tr>\n",
       "      <th>4</th>\n",
       "      <td>If you sometimes like to go to the movies to h...</td>\n",
       "    </tr>\n",
       "    <tr>\n",
       "      <th>5</th>\n",
       "      <td>Emerges as something rare , an issue movie tha...</td>\n",
       "    </tr>\n",
       "    <tr>\n",
       "      <th>6</th>\n",
       "      <td>The film provides some great insight into the ...</td>\n",
       "    </tr>\n",
       "    <tr>\n",
       "      <th>7</th>\n",
       "      <td>Offers that rare combination of entertainment ...</td>\n",
       "    </tr>\n",
       "    <tr>\n",
       "      <th>...</th>\n",
       "      <td>...</td>\n",
       "    </tr>\n",
       "    <tr>\n",
       "      <th>11621</th>\n",
       "      <td>An imaginative comedy\\/thriller .</td>\n",
       "    </tr>\n",
       "    <tr>\n",
       "      <th>11623</th>\n",
       "      <td>-LRB- A -RRB- rare , beautiful film .</td>\n",
       "    </tr>\n",
       "    <tr>\n",
       "      <th>11626</th>\n",
       "      <td>-LRB- An -RRB- hilarious romantic comedy .</td>\n",
       "    </tr>\n",
       "    <tr>\n",
       "      <th>11628</th>\n",
       "      <td>Never -LRB- sinks -RRB- into exploitation .</td>\n",
       "    </tr>\n",
       "    <tr>\n",
       "      <th>11798</th>\n",
       "      <td>-LRB- U -RRB- nrelentingly stupid .</td>\n",
       "    </tr>\n",
       "  </tbody>\n",
       "</table>\n",
       "<p>2210 rows × 1 columns</p>\n",
       "</div>"
      ],
      "text/plain": [
       "                                                         sentence\n",
       "sentence_index                                                   \n",
       "3                                  Effective but too-tepid biopic\n",
       "4               If you sometimes like to go to the movies to h...\n",
       "5               Emerges as something rare , an issue movie tha...\n",
       "6               The film provides some great insight into the ...\n",
       "7               Offers that rare combination of entertainment ...\n",
       "...                                                           ...\n",
       "11621                           An imaginative comedy\\/thriller .\n",
       "11623                       -LRB- A -RRB- rare , beautiful film .\n",
       "11626                  -LRB- An -RRB- hilarious romantic comedy .\n",
       "11628                 Never -LRB- sinks -RRB- into exploitation .\n",
       "11798                         -LRB- U -RRB- nrelentingly stupid .\n",
       "\n",
       "[2210 rows x 1 columns]"
      ]
     },
     "execution_count": 4,
     "metadata": {},
     "output_type": "execute_result"
    }
   ],
   "source": [
    "df_test = df[datasetSplit['splitset_label'] == 2]\n",
    "df_test"
   ]
  },
  {
   "cell_type": "markdown",
   "metadata": {},
   "source": [
    "## gpt-3.5-turbo classification"
   ]
  },
  {
   "cell_type": "code",
   "execution_count": 5,
   "metadata": {},
   "outputs": [],
   "source": [
    "client = OpenAI(\n",
    "    api_key=\"api_key\"\n",
    ")\n",
    "\n",
    "def classify_sentiment_zero_shot(sentence):\n",
    "    prompt =    f\"\"\"Classify the sentiment of this sentence into one of the following categories: \n",
    "                very negative, negative, neutral, positive, very positive. Only answer with 0 for \n",
    "                very negative, 1 for negative, 2 for neutral, 3 for positive or 4 for very \n",
    "                positive. Sentence: '{sentence}'\"\"\"\n",
    "\n",
    "    chat_completion = client.chat.completions.create(\n",
    "        messages = [\n",
    "            {\n",
    "                \"role\":\"user\",\n",
    "                \"content\":prompt\n",
    "            },    \n",
    "        ],\n",
    "        model=\"gpt-3.5-turbo\",\n",
    "        max_tokens=1\n",
    "    )\n",
    "\n",
    "    return chat_completion.choices[0].message.content"
   ]
  },
  {
   "cell_type": "code",
   "execution_count": 6,
   "metadata": {},
   "outputs": [],
   "source": [
    "#################################################################################################################\n",
    "# ATTENTION! This line costs money!\n",
    "\n",
    "#predicted_labels_list = [classify_sentiment_zero_shot(sentence) for sentence in df_test['sentence']]\n",
    "\n",
    "# ATTENTION! This line costs money!\n",
    "#################################################################################################################"
   ]
  },
  {
   "cell_type": "markdown",
   "metadata": {},
   "source": [
    "### Create dataframe of predicted labels"
   ]
  },
  {
   "cell_type": "code",
   "execution_count": 33,
   "metadata": {},
   "outputs": [
    {
     "name": "stdout",
     "output_type": "stream",
     "text": [
      "1\n"
     ]
    }
   ],
   "source": [
    "predicted_labels_df = pd.DataFrame(predicted_labels_list, index=df_test.index, columns=['classified_sentiment'])\n",
    "predicted_labels_df['classified_sentiment'] = pd.to_numeric(predicted_labels_df['classified_sentiment'], errors='coerce')\n",
    "predicted_labels_df.reset_index(drop=True, inplace=True)\n",
    "# For 'Wrong answers' that are not convertable to int\n",
    "nan_count = predicted_labels_df.isna().sum().sum()\n",
    "print(nan_count)"
   ]
  },
  {
   "cell_type": "code",
   "execution_count": 36,
   "metadata": {},
   "outputs": [
    {
     "name": "stdout",
     "output_type": "stream",
     "text": [
      "Accuracy:  0.47442281575373474\n"
     ]
    }
   ],
   "source": [
    "# Create a mask to exclute NaN values from mean calculation\n",
    "mask = predicted_labels_df['classified_sentiment'].notna()\n",
    "accuracy = (labels_test['sentiment_labels'][mask] == predicted_labels_df['classified_sentiment'][mask]).mean()\n",
    "print(\"Accuracy: \", accuracy)\n",
    "\n",
    "#comparison_df = pd.concat([labels_test.iloc[:20, :], predicted_labels_df], axis=1)\n",
    "#print(comparison_df)"
   ]
  },
  {
   "cell_type": "markdown",
   "metadata": {},
   "source": [
    "## Write predicted labels to file"
   ]
  },
  {
   "cell_type": "code",
   "execution_count": 37,
   "metadata": {},
   "outputs": [],
   "source": [
    "predicted_labels_df.to_csv('./sst_dataset/SST2-Data/SST2-Data/stanfordSentimentTreebank/stanfordSentimentTreebank/predicted_sentiment_labels.txt', sep='\\t', index=True)"
   ]
  }
 ],
 "metadata": {
  "kernelspec": {
   "display_name": "gpt",
   "language": "python",
   "name": "python3"
  },
  "language_info": {
   "codemirror_mode": {
    "name": "ipython",
    "version": 3
   },
   "file_extension": ".py",
   "mimetype": "text/x-python",
   "name": "python",
   "nbconvert_exporter": "python",
   "pygments_lexer": "ipython3",
   "version": "3.8.18"
  }
 },
 "nbformat": 4,
 "nbformat_minor": 2
}
