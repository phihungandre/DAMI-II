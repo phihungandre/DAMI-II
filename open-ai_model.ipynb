{
 "cells": [
  {
   "cell_type": "markdown",
   "metadata": {},
   "source": [
    "# Test GPT in Python"
   ]
  },
  {
   "cell_type": "code",
   "execution_count": 29,
   "metadata": {},
   "outputs": [],
   "source": [
    "import pandas as pd\n",
    "import numpy as np\n",
    "import re\n",
    "import matplotlib.pyplot as plt\n",
    "from openai import OpenAI"
   ]
  },
  {
   "cell_type": "markdown",
   "metadata": {},
   "source": [
    "## Import Data"
   ]
  },
  {
   "cell_type": "code",
   "execution_count": 30,
   "metadata": {},
   "outputs": [],
   "source": [
    "df = pd.read_csv(\"./sst_dataset/SST2-Data/SST2-Data/stanfordSentimentTreebank/stanfordSentimentTreebank/datasetSentences.txt\", sep=\"\\t\", index_col=0)\n",
    "datasetSplit = pd.read_csv(\"./sst_dataset/SST2-Data/SST2-Data/stanfordSentimentTreebank/stanfordSentimentTreebank/datasetSplit.txt\", index_col=0)\n",
    "df_test = df[datasetSplit['splitset_label'] == 2]"
   ]
  },
  {
   "cell_type": "markdown",
   "metadata": {},
   "source": [
    "## gpt-3.5-turbo classification"
   ]
  },
  {
   "cell_type": "code",
   "execution_count": 59,
   "metadata": {},
   "outputs": [],
   "source": [
    "client = OpenAI(\n",
    "    api_key=\"api-key\"\n",
    ")\n",
    "\n",
    "def classify_sentiment_zero_shot(sentence):\n",
    "    #prompt =    f\"\"\"Classify the sentiment of this sentence into one of the following categories: \n",
    "    #            very negative, negative, neutral, positive, very positive. Only answer with 0 for \n",
    "    #            very negative, 1 for negative, 2 for neutral, 3 for positive or 4 for very \n",
    "    #            positive. Sentence: '{sentence}'\"\"\"\n",
    "    \n",
    "    prompt =    f\"\"\"Examples of sentiment classification:\\n\n",
    "                Sentence: ... a sour little movie at its core ; an exploration of the emptiness that underlay the relentless gaiety of the 1920 's ... The film 's ending has a `` What was it all for ? '' -> Class: very negative\\n\n",
    "                Sentence: As it is , it 's too long and unfocused . -> Class: very negative\\n\n",
    "                Sentence: This is n't a new idea . -> Class: negative\\n\n",
    "                Sentence: Made me unintentionally famous -- as the queasy-stomached critic who staggered from the theater and blacked out in the lobby . -> Class: negative\\n\n",
    "                Sentence: You 'd think by now America would have had enough of plucky British eccentrics with hearts of gold . -> Class: neutral\\n\n",
    "                Sentence: You Should Pay Nine Bucks for This : Because you can hear about suffering Afghan refugees on the news and still be unaffected . -> Class: neutral\\n\n",
    "                Sentence: The Rock is destined to be the 21st Century 's new `` Conan '' and that he 's going to make a splash even greater than Arnold Schwarzenegger , Jean-Claud Van Damme or Steven Segal . -> Class: positive\\n\n",
    "                Sentence: Singer\\/composer Bryan Adams contributes a slew of songs -- a few potential hits , a few more simply intrusive to the story -- but the whole package certainly captures the intended , er , spirit of the piece . -> Class: positive\\n\n",
    "                Sentence: The gorgeously elaborate continuation of `` The Lord of the Rings '' trilogy is so huge that a column of words can not adequately describe co-writer\\/director Peter Jackson 's expanded vision of J.R.R. Tolkien 's Middle-earth . -> Class: very positive\\n\n",
    "                Sentence: Whether or not you 're enlightened by any of Derrida 's lectures on `` the other '' and `` the self , '' Derrida is an undeniably fascinating and playful fellow . -> Class: very positive\\n\n",
    "                According to the above examples classify the sentiment of the following sentence into one of these categories: very negative (0), negative (1), neutral (2), positive (3), very positive (4). Respond only with the number. Do not include any additional text or explanation in your response.\\n\n",
    "                Sentence: '{sentence}'\"\"\"\n",
    "\n",
    "    chat_completion = client.chat.completions.create(\n",
    "        messages = [\n",
    "            {\n",
    "                \"role\":\"user\",\n",
    "                \"content\":prompt\n",
    "            },    \n",
    "        ],\n",
    "        model=\"gpt-3.5-turbo\",\n",
    "        max_tokens=1,\n",
    "        seed=42\n",
    "    )\n",
    "\n",
    "    return chat_completion.choices[0].message.content"
   ]
  },
  {
   "cell_type": "code",
   "execution_count": 66,
   "metadata": {},
   "outputs": [],
   "source": [
    "#################################################################################################################\n",
    "# ATTENTION! This line costs money!\n",
    "\n",
    "#predicted_labels_list = [classify_sentiment_zero_shot(sentence) for sentence in df_test['sentence']]\n",
    "\n",
    "# ATTENTION! This line costs money!\n",
    "#################################################################################################################"
   ]
  },
  {
   "cell_type": "markdown",
   "metadata": {},
   "source": [
    "### Create dataframe of predicted labels"
   ]
  },
  {
   "cell_type": "code",
   "execution_count": 67,
   "metadata": {},
   "outputs": [
    {
     "name": "stdout",
     "output_type": "stream",
     "text": [
      "15\n"
     ]
    },
    {
     "data": {
      "text/html": [
       "<div>\n",
       "<style scoped>\n",
       "    .dataframe tbody tr th:only-of-type {\n",
       "        vertical-align: middle;\n",
       "    }\n",
       "\n",
       "    .dataframe tbody tr th {\n",
       "        vertical-align: top;\n",
       "    }\n",
       "\n",
       "    .dataframe thead th {\n",
       "        text-align: right;\n",
       "    }\n",
       "</style>\n",
       "<table border=\"1\" class=\"dataframe\">\n",
       "  <thead>\n",
       "    <tr style=\"text-align: right;\">\n",
       "      <th></th>\n",
       "      <th>classified_sentiment</th>\n",
       "    </tr>\n",
       "  </thead>\n",
       "  <tbody>\n",
       "    <tr>\n",
       "      <th>0</th>\n",
       "      <td>1.0</td>\n",
       "    </tr>\n",
       "    <tr>\n",
       "      <th>1</th>\n",
       "      <td>3.0</td>\n",
       "    </tr>\n",
       "    <tr>\n",
       "      <th>2</th>\n",
       "      <td>3.0</td>\n",
       "    </tr>\n",
       "    <tr>\n",
       "      <th>3</th>\n",
       "      <td>3.0</td>\n",
       "    </tr>\n",
       "    <tr>\n",
       "      <th>4</th>\n",
       "      <td>3.0</td>\n",
       "    </tr>\n",
       "    <tr>\n",
       "      <th>...</th>\n",
       "      <td>...</td>\n",
       "    </tr>\n",
       "    <tr>\n",
       "      <th>2205</th>\n",
       "      <td>3.0</td>\n",
       "    </tr>\n",
       "    <tr>\n",
       "      <th>2206</th>\n",
       "      <td>4.0</td>\n",
       "    </tr>\n",
       "    <tr>\n",
       "      <th>2207</th>\n",
       "      <td>3.0</td>\n",
       "    </tr>\n",
       "    <tr>\n",
       "      <th>2208</th>\n",
       "      <td>4.0</td>\n",
       "    </tr>\n",
       "    <tr>\n",
       "      <th>2209</th>\n",
       "      <td>0.0</td>\n",
       "    </tr>\n",
       "  </tbody>\n",
       "</table>\n",
       "<p>2210 rows × 1 columns</p>\n",
       "</div>"
      ],
      "text/plain": [
       "      classified_sentiment\n",
       "0                      1.0\n",
       "1                      3.0\n",
       "2                      3.0\n",
       "3                      3.0\n",
       "4                      3.0\n",
       "...                    ...\n",
       "2205                   3.0\n",
       "2206                   4.0\n",
       "2207                   3.0\n",
       "2208                   4.0\n",
       "2209                   0.0\n",
       "\n",
       "[2210 rows x 1 columns]"
      ]
     },
     "execution_count": 67,
     "metadata": {},
     "output_type": "execute_result"
    }
   ],
   "source": [
    "predicted_labels_df = pd.DataFrame(predicted_labels_list, index=df_test.index, columns=['classified_sentiment'])\n",
    "predicted_labels_df['classified_sentiment'] = pd.to_numeric(predicted_labels_df['classified_sentiment'], errors='coerce')\n",
    "predicted_labels_df.reset_index(drop=True, inplace=True)\n",
    "# For 'Wrong answers' that are not convertable to int\n",
    "nan_count = predicted_labels_df.isna().sum().sum()\n",
    "print(nan_count)\n",
    "predicted_labels_df"
   ]
  },
  {
   "cell_type": "markdown",
   "metadata": {},
   "source": [
    "## Write predicted labels to file"
   ]
  },
  {
   "cell_type": "code",
   "execution_count": 70,
   "metadata": {},
   "outputs": [],
   "source": [
    "predicted_labels_df.to_csv('./sst_dataset/SST2-Data/SST2-Data/stanfordSentimentTreebank/stanfordSentimentTreebank/predicted_sentiment_labels_few_shot.txt', sep='\\t', index=True)"
   ]
  }
 ],
 "metadata": {
  "kernelspec": {
   "display_name": "gpt",
   "language": "python",
   "name": "python3"
  },
  "language_info": {
   "codemirror_mode": {
    "name": "ipython",
    "version": 3
   },
   "file_extension": ".py",
   "mimetype": "text/x-python",
   "name": "python",
   "nbconvert_exporter": "python",
   "pygments_lexer": "ipython3",
   "version": "3.8.18"
  }
 },
 "nbformat": 4,
 "nbformat_minor": 2
}
